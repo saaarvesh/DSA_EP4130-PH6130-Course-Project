{
  "cells": [
    {
      "cell_type": "markdown",
      "source": [
        "# Recommendation System"
      ],
      "metadata": {
        "id": "MoNYSH4urXhV"
      }
    },
    {
      "cell_type": "markdown",
      "source": [
        "### Data Science Analysis EP4130/PH6130 Project\n",
        "### Authors - \n",
        "*   Sarveshkumar Purohit \\\n",
        "    AI22MTECH14006 \\\n",
        "    MTech AI ,Department Of AI\n",
        "\n",
        "*   Soumyanetra Pal \\\n",
        "    AI22MTECH14005 \\\n",
        "    MTech AI ,Department Of AI"
      ],
      "metadata": {
        "id": "fPmS2qgA8C5M"
      }
    },
    {
      "cell_type": "markdown",
      "source": [
        "### Reference\n",
        "For implementation we have taken inspiration from many references, \n",
        "\n",
        "<ul>\n",
        "<li> <a href=\"https://towardsdatascience.com/the-netflix-prize-how-even-ai-leaders-can-trip-up-5c1f38e95c9f\">The Netflix Prize — How Even AI Leaders Can Trip Up</a></li>\n",
        "<li> <a href=\"https://github.com/alexbw/Netflix-Prize\">Code from Alex Wiltschko who was in top 150 at the end of the Netflix prize challenge</a></li>\n",
        "<li> <a href=\"https://netflixtechblog.com/netflix-recommendations-beyond-the-5-stars-part-1-55838468f429\">Very nice blog by netflix team on medium Part-1</a></li>\n",
        "<li> <a href=\"https://netflixtechblog.com/netflix-recommendations-beyond-the-5-stars-part-2-d9b96aa399f5\">Very nice blog by netflix team on medium Part-2</a></li>\n",
        "<li> <a href=\"https://github.com/harshraj11584/Paper-Implementation-Matrix-Factorization-Recommender-Systems-Netflix\">Github repo by Harsh Raj</a></li>\n",
        "<li><a href=\"https://github.com/storieswithsiva/Movie-Recommendation-Netflix\">Github repo by Sivasubramanian B</a></li>\n",
        "<li><a href=\"https://ieeexplore.ieee.org/document/5197422\">Y. Koren, R. Bell and C. Volinsky, \"Matrix Factorization Techniques for Recommender Systems,\" in Computer, vol. 42, no. 8, pp. 30-37, Aug. 2009, doi: 10.1109/MC.2009.263.</a></li>\n",
        "<li><a href=\"https://datajobs.com/data-science-repo/Recommender-Systems-%5BNetflix%5D.pdf\">Paper by the Winner of Netflix prize challenge Y. Koren</a></li>\n",
        "<li><a href=\"https://www.kaggle.com/datasets/netflix-inc/netflix-prize-data/code\">Kaggle Netflix challenge link</a></li>\n",
        "</ul>"
      ],
      "metadata": {
        "id": "FqDR2ZFJiOuN"
      }
    },
    {
      "cell_type": "markdown",
      "source": [
        "#### Abstract\n",
        "> The Netflix Prize was a competition launched by the online streaming company Netflix in 2006, offering a grand prize of 1 million dollar to any individual or team that could improve the accuracy of its movie recommendation algorithm by at least 10\\%. A team of computer engineers from AT\\&T Labs won the grand prize by reducing the RMSE loss from 0.9525 (Loss reported by Netfix's Recommender Algorithm called CineMatch) to 0.8572. The Netflix Prize challenge helped to drive advances in machine learning and collaborative filtering(CF) techniques. As the Netflix Prize competition has demonstrated, matrix factorization models are superior to classic nearest-neighbor techniques for producing product recommendations, allowing the incorporation \n",
        "of additional information such as implicit feedback, temporal effects, and confidence levels. In this project, we aim to study the paper published by the winning team of AT\\&T Labs in IEEE Computer Society. The Part of the machine learning algorithm suggested by winning team in this paper is still used by Netflix in production server.\n"
      ],
      "metadata": {
        "id": "suwzvSg--Iqa"
      }
    },
    {
      "cell_type": "markdown",
      "metadata": {
        "id": "gtz7yfHz57-Q"
      },
      "source": [
        "### 1. importing packages"
      ]
    },
    {
      "cell_type": "code",
      "execution_count": null,
      "metadata": {
        "id": "hYi0hFKK57-T"
      },
      "outputs": [],
      "source": [
        "import os\n",
        "import random\n",
        "import matplotlib\n",
        "%matplotlib inline\n",
        "import numpy as np\n",
        "import pandas as pd\n",
        "import seaborn as sns\n",
        "from datetime import datetime\n",
        "import matplotlib.pyplot as plt\n",
        "\n",
        "from scipy import sparse\n",
        "from scipy.sparse import csr_matrix\n",
        "from sklearn.decomposition import TruncatedSVD\n",
        "from sklearn.metrics.pairwise import cosine_similarity\n",
        "\n"
      ]
    },
    {
      "cell_type": "markdown",
      "metadata": {
        "id": "T6gsmLgb57-V"
      },
      "source": [
        "### 2. Data Preprocessing"
      ]
    },
    {
      "cell_type": "markdown",
      "metadata": {
        "id": "Q71wJcYM57-V"
      },
      "source": [
        "##### 2.1 Converting all the txt file to one file which will be in user, movie, rating, Date format"
      ]
    },
    {
      "cell_type": "code",
      "execution_count": null,
      "metadata": {
        "id": "etO4Gecn57-V",
        "outputId": "675b9ee0-663d-4df9-9177-fea948f9342a"
      },
      "outputs": [
        {
          "name": "stdout",
          "output_type": "stream",
          "text": [
            "Reading ratings from combined_data_1.txt...\n",
            "Done.\n",
            "\n",
            "Reading ratings from combined_data_2.txt...\n",
            "Done.\n",
            "\n",
            "Reading ratings from combined_data_3.txt...\n",
            "Done.\n",
            "\n",
            "Reading ratings from combined_data_4.txt...\n",
            "Done.\n",
            "\n",
            "Time taken : 0:01:29.735795\n"
          ]
        }
      ],
      "source": [
        "start = datetime.now()\n",
        "if not os.path.isfile('data.csv'):\n",
        "    data = open('data.csv', mode='w')\n",
        "    \n",
        "    row = list()\n",
        "    files=['combined_data_1.txt','combined_data_2.txt', \n",
        "           'combined_data_3.txt', 'combined_data_4.txt']\n",
        "    for file in files:\n",
        "        print(\"Reading ratings from {}...\".format(file))\n",
        "        with open(file) as f:\n",
        "            for line in f: \n",
        "                del row[:]\n",
        "                line = line.strip()\n",
        "                if line.endswith(':'):\n",
        "                    movie_id = line.replace(':', '')\n",
        "                else:\n",
        "                    row = [x for x in line.split(',')]\n",
        "                    row.insert(0, movie_id)\n",
        "                    data.write(','.join(row))\n",
        "                    data.write('\\n')\n",
        "        print(\"Done.\\n\")\n",
        "    data.close()\n",
        "print('Time taken :', datetime.now() - start)"
      ]
    },
    {
      "cell_type": "markdown",
      "metadata": {
        "id": "IcoOwdrZ57-X"
      },
      "source": [
        "##### 2.2 Reading Data in CSV file"
      ]
    },
    {
      "cell_type": "code",
      "execution_count": null,
      "metadata": {
        "id": "nJGtzf8Y57-X",
        "outputId": "0dd58f78-6c11-43d2-91dd-52bc4939d821"
      },
      "outputs": [
        {
          "name": "stdout",
          "output_type": "stream",
          "text": [
            "Done.\n",
            "\n",
            "Time taken : 0:00:49.305454\n"
          ]
        }
      ],
      "source": [
        "start = datetime.now()\n",
        "df = pd.read_csv('data.csv', sep=',', \n",
        "                       names=['movie', 'user','rating','date'])\n",
        "df.date = pd.to_datetime(df.date)\n",
        "print('Done.\\n')\n",
        "\n",
        "df.sort_values(by='date', inplace=True)\n",
        "print('Time taken :', datetime.now() - start)"
      ]
    },
    {
      "cell_type": "code",
      "execution_count": null,
      "metadata": {
        "id": "KVBwRgEd57-Y",
        "outputId": "caf1aeb9-5ebe-4638-c303-5464f2b72cbc"
      },
      "outputs": [
        {
          "data": {
            "text/html": [
              "<div>\n",
              "<style scoped>\n",
              "    .dataframe tbody tr th:only-of-type {\n",
              "        vertical-align: middle;\n",
              "    }\n",
              "\n",
              "    .dataframe tbody tr th {\n",
              "        vertical-align: top;\n",
              "    }\n",
              "\n",
              "    .dataframe thead th {\n",
              "        text-align: right;\n",
              "    }\n",
              "</style>\n",
              "<table border=\"1\" class=\"dataframe\">\n",
              "  <thead>\n",
              "    <tr style=\"text-align: right;\">\n",
              "      <th></th>\n",
              "      <th>movie</th>\n",
              "      <th>user</th>\n",
              "      <th>rating</th>\n",
              "      <th>date</th>\n",
              "    </tr>\n",
              "  </thead>\n",
              "  <tbody>\n",
              "    <tr>\n",
              "      <th>56431994</th>\n",
              "      <td>10341</td>\n",
              "      <td>510180</td>\n",
              "      <td>4</td>\n",
              "      <td>1999-11-11</td>\n",
              "    </tr>\n",
              "    <tr>\n",
              "      <th>9056171</th>\n",
              "      <td>1798</td>\n",
              "      <td>510180</td>\n",
              "      <td>5</td>\n",
              "      <td>1999-11-11</td>\n",
              "    </tr>\n",
              "    <tr>\n",
              "      <th>58698779</th>\n",
              "      <td>10774</td>\n",
              "      <td>510180</td>\n",
              "      <td>3</td>\n",
              "      <td>1999-11-11</td>\n",
              "    </tr>\n",
              "    <tr>\n",
              "      <th>48101611</th>\n",
              "      <td>8651</td>\n",
              "      <td>510180</td>\n",
              "      <td>2</td>\n",
              "      <td>1999-11-11</td>\n",
              "    </tr>\n",
              "    <tr>\n",
              "      <th>81893208</th>\n",
              "      <td>14660</td>\n",
              "      <td>510180</td>\n",
              "      <td>2</td>\n",
              "      <td>1999-11-11</td>\n",
              "    </tr>\n",
              "  </tbody>\n",
              "</table>\n",
              "</div>"
            ],
            "text/plain": [
              "          movie    user  rating       date\n",
              "56431994  10341  510180       4 1999-11-11\n",
              "9056171    1798  510180       5 1999-11-11\n",
              "58698779  10774  510180       3 1999-11-11\n",
              "48101611   8651  510180       2 1999-11-11\n",
              "81893208  14660  510180       2 1999-11-11"
            ]
          },
          "execution_count": 9,
          "metadata": {},
          "output_type": "execute_result"
        }
      ],
      "source": [
        "df.head()"
      ]
    },
    {
      "cell_type": "code",
      "execution_count": null,
      "metadata": {
        "id": "BMicfJXU57-Z",
        "outputId": "5d855218-e1be-40f6-ed64-f1ce2d9c115b"
      },
      "outputs": [
        {
          "name": "stdout",
          "output_type": "stream",
          "text": [
            "Total data \n",
            "--------------------------------------------------\n",
            "\n",
            "Total no of ratings : 100480507\n",
            "Total No of Users   : 480189\n",
            "Total No of movies  : 17770\n"
          ]
        }
      ],
      "source": [
        "print(\"Total data \")\n",
        "print(\"-\"*50)\n",
        "print(\"\\nTotal no of ratings :\",df.shape[0])\n",
        "print(\"Total No of Users   :\", len(np.unique(df.user)))\n",
        "print(\"Total No of movies  :\", len(np.unique(df.movie)))"
      ]
    },
    {
      "cell_type": "markdown",
      "metadata": {
        "id": "n7bvXNY757-a"
      },
      "source": [
        "##### 2.3 Train-Test split"
      ]
    },
    {
      "cell_type": "code",
      "execution_count": null,
      "metadata": {
        "id": "yk1ig4kr57-a",
        "outputId": "01fd6a02-eb89-4225-8e18-4694ad646858"
      },
      "outputs": [
        {
          "name": "stdout",
          "output_type": "stream",
          "text": [
            "Time taken : 0:03:28.830181\n"
          ]
        }
      ],
      "source": [
        "start = datetime.now()\n",
        "if not os.path.isfile('train.csv'):\n",
        "    df.iloc[:int(df.shape[0]*0.80)].to_csv(\"train.csv\", index=False)\n",
        "\n",
        "if not os.path.isfile('test.csv'):\n",
        "    df.iloc[int(df.shape[0]*0.80):].to_csv(\"test.csv\", index=False)\n",
        "\n",
        "train_df = pd.read_csv(\"train.csv\", parse_dates=['date'])\n",
        "test_df = pd.read_csv(\"test.csv\")\n",
        "print('Time taken :', datetime.now() - start)"
      ]
    },
    {
      "cell_type": "code",
      "execution_count": null,
      "metadata": {
        "id": "q1fqpYd357-a",
        "outputId": "6c4134df-6553-451c-a466-8b72ccd5d533"
      },
      "outputs": [
        {
          "name": "stdout",
          "output_type": "stream",
          "text": [
            "Training data \n",
            "--------------------------------------------------\n",
            "\n",
            "Total no of ratings : 80384405\n",
            "Total No of Users   : 405041\n",
            "Total No of movies  : 17424\n"
          ]
        }
      ],
      "source": [
        "print(\"Training data \")\n",
        "print(\"-\"*50)\n",
        "print(\"\\nTotal no of ratings :\",train_df.shape[0])\n",
        "print(\"Total No of Users   :\", len(np.unique(train_df.user)))\n",
        "print(\"Total No of movies  :\", len(np.unique(train_df.movie)))"
      ]
    },
    {
      "cell_type": "code",
      "execution_count": null,
      "metadata": {
        "id": "cCLa8hn-57-b",
        "outputId": "20f2f3c3-85f6-4e74-f05c-679b5b39049f"
      },
      "outputs": [
        {
          "name": "stdout",
          "output_type": "stream",
          "text": [
            "Test data \n",
            "--------------------------------------------------\n",
            "\n",
            "Total no of ratings : 20096102\n",
            "Total No of Users   : 349312\n",
            "Total No of movies  : 17757\n"
          ]
        }
      ],
      "source": [
        "print(\"Test data \")\n",
        "print(\"-\"*50)\n",
        "print(\"\\nTotal no of ratings :\",test_df.shape[0])\n",
        "print(\"Total No of Users   :\", len(np.unique(test_df.user)))\n",
        "print(\"Total No of movies  :\", len(np.unique(test_df.movie)))"
      ]
    },
    {
      "cell_type": "markdown",
      "source": [
        "##### 2.4 Extracting day_of_week imformation from the existing data column from Dataset"
      ],
      "metadata": {
        "id": "vxacJtomGMZV"
      }
    },
    {
      "cell_type": "code",
      "execution_count": null,
      "metadata": {
        "id": "1cxzzSF957-b",
        "outputId": "2bb3f583-99d3-43a4-93ce-9038d433e5df"
      },
      "outputs": [
        {
          "data": {
            "text/html": [
              "<div>\n",
              "<style scoped>\n",
              "    .dataframe tbody tr th:only-of-type {\n",
              "        vertical-align: middle;\n",
              "    }\n",
              "\n",
              "    .dataframe tbody tr th {\n",
              "        vertical-align: top;\n",
              "    }\n",
              "\n",
              "    .dataframe thead th {\n",
              "        text-align: right;\n",
              "    }\n",
              "</style>\n",
              "<table border=\"1\" class=\"dataframe\">\n",
              "  <thead>\n",
              "    <tr style=\"text-align: right;\">\n",
              "      <th></th>\n",
              "      <th>movie</th>\n",
              "      <th>user</th>\n",
              "      <th>rating</th>\n",
              "      <th>date</th>\n",
              "      <th>day_of_week</th>\n",
              "    </tr>\n",
              "  </thead>\n",
              "  <tbody>\n",
              "    <tr>\n",
              "      <th>80384400</th>\n",
              "      <td>12074</td>\n",
              "      <td>2033618</td>\n",
              "      <td>4</td>\n",
              "      <td>2005-08-08</td>\n",
              "      <td>Monday</td>\n",
              "    </tr>\n",
              "    <tr>\n",
              "      <th>80384401</th>\n",
              "      <td>862</td>\n",
              "      <td>1797061</td>\n",
              "      <td>3</td>\n",
              "      <td>2005-08-08</td>\n",
              "      <td>Monday</td>\n",
              "    </tr>\n",
              "    <tr>\n",
              "      <th>80384402</th>\n",
              "      <td>10986</td>\n",
              "      <td>1498715</td>\n",
              "      <td>5</td>\n",
              "      <td>2005-08-08</td>\n",
              "      <td>Monday</td>\n",
              "    </tr>\n",
              "    <tr>\n",
              "      <th>80384403</th>\n",
              "      <td>14861</td>\n",
              "      <td>500016</td>\n",
              "      <td>4</td>\n",
              "      <td>2005-08-08</td>\n",
              "      <td>Monday</td>\n",
              "    </tr>\n",
              "    <tr>\n",
              "      <th>80384404</th>\n",
              "      <td>5926</td>\n",
              "      <td>1044015</td>\n",
              "      <td>5</td>\n",
              "      <td>2005-08-08</td>\n",
              "      <td>Monday</td>\n",
              "    </tr>\n",
              "  </tbody>\n",
              "</table>\n",
              "</div>"
            ],
            "text/plain": [
              "          movie     user  rating       date day_of_week\n",
              "80384400  12074  2033618       4 2005-08-08      Monday\n",
              "80384401    862  1797061       3 2005-08-08      Monday\n",
              "80384402  10986  1498715       5 2005-08-08      Monday\n",
              "80384403  14861   500016       4 2005-08-08      Monday\n",
              "80384404   5926  1044015       5 2005-08-08      Monday"
            ]
          },
          "execution_count": 15,
          "metadata": {},
          "output_type": "execute_result"
        }
      ],
      "source": [
        "pd.options.mode.chained_assignment = None  \n",
        "\n",
        "train_df['day_of_week'] = train_df.date.dt.day_name()\n",
        "\n",
        "train_df.tail()"
      ]
    },
    {
      "cell_type": "markdown",
      "metadata": {
        "id": "xEK_WgJJ57-b"
      },
      "source": [
        "### 3. Exploratory data analysis (EDA) on training Dataset"
      ]
    },
    {
      "cell_type": "code",
      "execution_count": null,
      "metadata": {
        "id": "_8L4SLrD57-b"
      },
      "outputs": [],
      "source": [
        "def human(num, units = 'm'):\n",
        "    units = units.lower()\n",
        "    num = float(num)\n",
        "    if units == 'k':\n",
        "        return str(num/10**3) + \" K\"\n",
        "    elif units == 'm':\n",
        "        return str(num/10**6) + \" M\"\n",
        "    elif units == 'b':\n",
        "        return str(num/10**9) +  \" B\""
      ]
    },
    {
      "cell_type": "markdown",
      "metadata": {
        "id": "MzdZNpq357-b"
      },
      "source": [
        "##### 3.1 Graph for Number of rating per year in Training data"
      ]
    },
    {
      "cell_type": "code",
      "execution_count": null,
      "metadata": {
        "id": "WumiV4N_57-c",
        "outputId": "58ad2adc-553d-46f6-d25b-5d5467ca981a"
      },
      "outputs": [
        {
          "name": "stderr",
          "output_type": "stream",
          "text": [
            "/tmp/ipykernel_101244/1079691811.py:5: UserWarning: FixedFormatter should only be used together with FixedLocator\n",
            "  ax.set_yticklabels([human(item, 'M') for item in ax.get_yticks()])\n"
          ]
        },
        {
          "data": {
            "image/png": "[encoded data removed]",
            "text/plain": [
              "<Figure size 640x480 with 1 Axes>"
            ]
          },
          "metadata": {},
          "output_type": "display_data"
        }
      ],
      "source": [
        "ax = train_df.resample('m', on='date')['rating'].count().plot()\n",
        "ax.set_title('No of ratings per month (Training data)')\n",
        "plt.xlabel('Month')\n",
        "plt.ylabel('No of ratings(per month)')\n",
        "ax.set_yticklabels([human(item, 'M') for item in ax.get_yticks()])\n",
        "plt.show()"
      ]
    },
    {
      "cell_type": "markdown",
      "metadata": {
        "id": "LIZuWaRf57-d"
      },
      "source": [
        "##### 3.2 quantiles plot of number of movies rated by user"
      ]
    },
    {
      "cell_type": "code",
      "execution_count": null,
      "metadata": {
        "id": "175Z7uXm57-d"
      },
      "outputs": [],
      "source": [
        "quantiles = no_of_rated_movies_per_user.quantile(np.arange(0,1.01,0.01), interpolation='higher')"
      ]
    },
    {
      "cell_type": "code",
      "execution_count": null,
      "metadata": {
        "id": "Zr26Jun557-d",
        "outputId": "c5c82f49-1353-4d8f-916d-ea1485f44a0d"
      },
      "outputs": [
        {
          "data": {
            "image/png": "[encoded data removed]",
            "text/plain": [
              "<Figure size 640x480 with 1 Axes>"
            ]
          },
          "metadata": {},
          "output_type": "display_data"
        }
      ],
      "source": [
        "plt.title(\"Quantiles and their Values\")\n",
        "quantiles.plot()\n",
        "plt.scatter(x=quantiles.index[::5], y=quantiles.values[::5], c='orange', label=\"quantiles with 0.05 intervals\")\n",
        "plt.scatter(x=quantiles.index[::25], y=quantiles.values[::25], c='m', label = \"quantiles with 0.25 intervals\")\n",
        "plt.ylabel('No of ratings by user')\n",
        "plt.xlabel('Value at the quantile')\n",
        "plt.legend(loc='best')\n",
        "\n",
        "for x,y in zip(quantiles.index[::25], quantiles[::25]):\n",
        "    plt.annotate(text=\"({} , {})\".format(x,y), xy=(x,y), xytext=(x-0.05, y+500)\n",
        "                ,fontweight='bold')\n",
        "\n",
        "\n",
        "plt.show()"
      ]
    },
    {
      "cell_type": "markdown",
      "metadata": {
        "id": "Mpz2J5uS57-d"
      },
      "source": [
        "##### 3.3 plot for number of ratings per weekday"
      ]
    },
    {
      "cell_type": "code",
      "execution_count": null,
      "metadata": {
        "id": "sBpIgXLi57-e"
      },
      "outputs": [],
      "source": [
        "fig, ax = plt.subplots()\n",
        "sns.countplot(x='day_of_week', data=train_df, ax=ax)\n",
        "plt.title('No of ratings on each day...')\n",
        "plt.ylabel('Total no of ratings')\n",
        "plt.xlabel('')\n",
        "ax.set_yticklabels([human(item, 'M') for item in ax.get_yticks()])\n",
        "plt.show()"
      ]
    },
    {
      "cell_type": "markdown",
      "metadata": {
        "id": "pR01qaBa57-e"
      },
      "source": [
        "##### 3.4 BOX plot for value of ratings given on each weekday"
      ]
    },
    {
      "cell_type": "code",
      "execution_count": null,
      "metadata": {
        "id": "Mln3ThGs57-e"
      },
      "outputs": [],
      "source": [
        "start = datetime.now()\n",
        "fig = plt.figure(figsize=plt.figaspect(.45))\n",
        "sns.boxplot(y='rating', x='day_of_week', data=train_df)\n",
        "plt.show()\n",
        "print(datetime.now() - start)"
      ]
    },
    {
      "cell_type": "markdown",
      "metadata": {
        "id": "5lu-7ExW57-e"
      },
      "source": [
        "### 4. Creating sparse matric representation our data"
      ]
    },
    {
      "cell_type": "markdown",
      "metadata": {
        "id": "guDa39DW57-e"
      },
      "source": [
        "##### 4.1 Creating sparse matric representation our train data"
      ]
    },
    {
      "cell_type": "code",
      "execution_count": null,
      "metadata": {
        "id": "69IDCc3E57-f",
        "outputId": "9699abd9-9eb3-4961-a6be-5ba678394b48"
      },
      "outputs": [
        {
          "name": "stdout",
          "output_type": "stream",
          "text": [
            "Done. It's shape is : (user, movie) :  (2649430, 17771)\n",
            "Saving it into disk for furthur usage..\n",
            "Done..\n",
            "\n",
            "0:00:43.999441\n"
          ]
        }
      ],
      "source": [
        "start = datetime.now()\n",
        "if os.path.isfile('train_sparse_matrix.npz'):\n",
        "    train_sparse_matrix = sparse.load_npz('train_sparse_matrix.npz')\n",
        "    print(\"DONE..\")\n",
        "else: \n",
        "    train_sparse_matrix = sparse.csr_matrix((train_df.rating.values, (train_df.user.values,\n",
        "                                               train_df.movie.values)),)\n",
        "    \n",
        "    print('Done. It\\'s shape is : (user, movie) : ',train_sparse_matrix.shape)\n",
        "    print('Saving it into disk for furthur usage..')\n",
        "    sparse.save_npz(\"train_sparse_matrix.npz\", train_sparse_matrix)\n",
        "    print('Done..\\n')\n",
        "\n",
        "print(datetime.now() - start)"
      ]
    },
    {
      "cell_type": "markdown",
      "metadata": {
        "id": "D6Prpxm-57-f"
      },
      "source": [
        "##### 4.2 Creating sparse matric representatio our test data"
      ]
    },
    {
      "cell_type": "code",
      "execution_count": null,
      "metadata": {
        "id": "-J4zJIHe57-f",
        "outputId": "735d3c3c-36e8-4c8c-be5c-1ebb1c3762cb"
      },
      "outputs": [
        {
          "name": "stdout",
          "output_type": "stream",
          "text": [
            "We are creating sparse_matrix from the dataframe..\n",
            "Done. It's shape is : (user, movie) :  (2649430, 17771)\n",
            "Saving it into disk for furthur usage..\n",
            "Done..\n",
            "\n",
            "0:00:12.158731\n"
          ]
        }
      ],
      "source": [
        "start = datetime.now()\n",
        "if os.path.isfile('test_sparse_matrix.npz'):\n",
        "    print(\"It is present in your pwd, getting it from disk....\")\n",
        "    test_sparse_matrix = sparse.load_npz('test_sparse_matrix.npz')\n",
        "    print(\"DONE..\")\n",
        "else: \n",
        "    print(\"We are creating sparse_matrix from the dataframe..\")\n",
        "    test_sparse_matrix = sparse.csr_matrix((test_df.rating.values, (test_df.user.values,\n",
        "                                               test_df.movie.values)))\n",
        "    \n",
        "    print('Done. It\\'s shape is : (user, movie) : ',test_sparse_matrix.shape)\n",
        "    print('Saving it into disk for furthur usage..')\n",
        "    sparse.save_npz(\"test_sparse_matrix.npz\", test_sparse_matrix)\n",
        "    print('Done..\\n')\n",
        "    \n",
        "print(datetime.now() - start)"
      ]
    },
    {
      "cell_type": "markdown",
      "metadata": {
        "id": "VrFQPnNG57-f"
      },
      "source": [
        "### 5. Function for User-user similarity"
      ]
    },
    {
      "cell_type": "markdown",
      "source": [
        "* **\"Users who have agreed in the past tends to agree in the\n",
        "future\"**. \\\n",
        "With this idea, we aimed to find similar users using cosine similarity\n",
        "$$\n",
        "\\begin{align}\n",
        "             sim(u_{i}, u_{j}) = \\dfrac {u^T_{i} \\cdot u_{j}} {\\left\\| u_{i}\\right\\| _{2}\\left\\| u_{j}\\right\\| _{2}}\n",
        "\\end{align}\n",
        "$$\n",
        "         "
      ],
      "metadata": {
        "id": "evrEPrJLI7gW"
      }
    },
    {
      "cell_type": "code",
      "execution_count": null,
      "metadata": {
        "id": "pgs21sBN57-g"
      },
      "outputs": [],
      "source": [
        "from sklearn.metrics.pairwise import cosine_similarity\n",
        "\n",
        "\n",
        "def compute_user_similarity(sparse_matrix, compute_for_few=False, top = 100, verbose=False, verb_for_n_rows = 20,draw_time_taken=True):\n",
        "    no_of_users, _ = sparse_matrix.shape\n",
        "    row_ind, col_ind = sparse_matrix.nonzero()\n",
        "    row_ind = sorted(set(row_ind))\n",
        "    time_taken = list()\n",
        "    \n",
        "    rows, cols, data = list(), list(), list()\n",
        "    if verbose: print(\"Computing top\",top,\"similarities for each user..\")\n",
        "    \n",
        "    start = datetime.now()\n",
        "    temp = 0\n",
        "    for row in row_ind[:top] if compute_for_few else row_ind:\n",
        "        temp = temp+1\n",
        "        prev = datetime.now()\n",
        "        sim = cosine_similarity(sparse_matrix.getrow(row), sparse_matrix).ravel()\n",
        "        top_sim_ind = sim.argsort()[-top:]\n",
        "        top_sim_val = sim[top_sim_ind]\n",
        "        rows.extend([row]*top)\n",
        "        cols.extend(top_sim_ind)\n",
        "        data.extend(top_sim_val)\n",
        "        time_taken.append(datetime.now().timestamp() - prev.timestamp())\n",
        "        if verbose:\n",
        "            if temp%verb_for_n_rows == 0:\n",
        "                print(\"computing done for {} users [  time elapsed : {}  ]\"\n",
        "                      .format(temp, datetime.now()-start))\n",
        "            \n",
        "    if verbose: \n",
        "      print('Creating Sparse matrix from the computed similarities')\n",
        "  \n",
        "    if draw_time_taken:\n",
        "        plt.plot(time_taken, label = 'time taken for each user')\n",
        "        plt.plot(np.cumsum(time_taken), label='Total time')\n",
        "        plt.legend(loc='best')\n",
        "        plt.xlabel('User')\n",
        "        plt.ylabel('Time (seconds)')\n",
        "        plt.show()\n",
        "        \n",
        "    return sparse.csr_matrix((data, (rows, cols)), shape=(no_of_users, no_of_users)), time_taken      "
      ]
    },
    {
      "cell_type": "markdown",
      "metadata": {
        "id": "RHIVGSIY57-g"
      },
      "source": [
        "### 6. Function Sampling data from the sparse matrix"
      ]
    },
    {
      "cell_type": "markdown",
      "source": [
        "* Original Train dataset\n",
        "> Total no of ratings : 80384405\\\n",
        "  Total No of Users   : 405041\\\n",
        "   Total No of movies  : 17424\n",
        "\n",
        "* Original Test dataset\n",
        "> Total no of ratings : 20096102\\\n",
        "  Total No of Users   : 349312\\\n",
        "  Total No of movies  : 17757\n",
        "\n",
        "* Because of the hardware constrain we are sampling 9000 users and 1200 movies from the train data and 4000 users and 800 movies from the test data."
      ],
      "metadata": {
        "id": "g99RWLjTgAqo"
      }
    },
    {
      "cell_type": "code",
      "execution_count": null,
      "metadata": {
        "id": "F4TmR3R157-g"
      },
      "outputs": [],
      "source": [
        "def get_sample_sparse_matrix(sparse_matrix, no_users, no_movies, path, verbose = True):\n",
        "    row_ind, col_ind, ratings = sparse.find(sparse_matrix)\n",
        "    users = np.unique(row_ind)\n",
        "    movies = np.unique(col_ind)\n",
        "\n",
        "    print(\"Original Matrix : (users, movies) -- ({} {})\".format(len(users), len(movies)))\n",
        "    print(\"Original Matrix : Ratings -- {}\\n\".format(len(ratings)))\n",
        "\n",
        "    np.random.seed(15)\n",
        "    sample_users = np.random.choice(users, no_users, replace=False)\n",
        "    sample_movies = np.random.choice(movies, no_movies, replace=False)\n",
        "    mask = np.logical_and( np.isin(row_ind, sample_users),\n",
        "                      np.isin(col_ind, sample_movies) )\n",
        "    \n",
        "    sample_sparse_matrix = sparse.csr_matrix((ratings[mask], (row_ind[mask], col_ind[mask])),\n",
        "                                             shape=(max(sample_users)+1, max(sample_movies)+1))\n",
        "\n",
        "    if verbose:\n",
        "        print(\"Sampled Matrix : (users, movies) -- ({} {})\".format(len(sample_users), len(sample_movies)))\n",
        "        print(\"Sampled Matrix : Ratings --\", format(ratings[mask].shape[0]))\n",
        "\n",
        "    print('Saving it into disk for furthur usage..')\n",
        "    sparse.save_npz(path, sample_sparse_matrix)\n",
        "    if verbose:\n",
        "            print('Done..\\n')\n",
        "    \n",
        "    return sample_sparse_matrix"
      ]
    },
    {
      "cell_type": "markdown",
      "metadata": {
        "id": "CIp4danI57-h"
      },
      "source": [
        "##### 6.1 sampling train data from the sparse matrix representation of our train data"
      ]
    },
    {
      "cell_type": "code",
      "execution_count": null,
      "metadata": {
        "id": "cYZ-Zhv257-h",
        "outputId": "faf63f6d-af1c-4c64-92ec-457ec0255874"
      },
      "outputs": [
        {
          "name": "stdout",
          "output_type": "stream",
          "text": [
            "Original Matrix : (users, movies) -- (405041 17424)\n",
            "Original Matrix : Ratings -- 80384405\n",
            "\n",
            "Sampled Matrix : (users, movies) -- (9000 1200)\n",
            "Sampled Matrix : Ratings -- 131824\n",
            "Saving it into disk for furthur usage..\n",
            "Done..\n",
            "\n",
            "0:00:16.358291\n"
          ]
        }
      ],
      "source": [
        "start = datetime.now()\n",
        "path = \"sample_train_sparse_matrix.npz\"\n",
        "if os.path.isfile(path):\n",
        "    print(\"It is present in your pwd, getting it from disk....\")\n",
        "    sample_train_sparse_matrix = sparse.load_npz(path)\n",
        "    print(\"DONE..\")\n",
        "else:\n",
        "    sample_train_sparse_matrix = get_sample_sparse_matrix(train_sparse_matrix, no_users=9000, no_movies=1200,\n",
        "                                             path = path)\n",
        "\n",
        "print(datetime.now() - start)"
      ]
    },
    {
      "cell_type": "markdown",
      "metadata": {
        "id": "VQuIxwjB57-i"
      },
      "source": [
        "##### 6.2 sampling test data from the sparse matrix representation of our test data"
      ]
    },
    {
      "cell_type": "code",
      "execution_count": null,
      "metadata": {
        "id": "S3vNXXhW57-j",
        "outputId": "67f2d460-5442-4bc2-c1c8-2f2e7b87f30a"
      },
      "outputs": [
        {
          "name": "stdout",
          "output_type": "stream",
          "text": [
            "Original Matrix : (users, movies) -- (349312 17757)\n",
            "Original Matrix : Ratings -- 20096102\n",
            "\n",
            "Sampled Matrix : (users, movies) -- (4000 800)\n",
            "Sampled Matrix : Ratings -- 10549\n",
            "Saving it into disk for furthur usage..\n",
            "Done..\n",
            "\n",
            "0:00:04.128000\n"
          ]
        }
      ],
      "source": [
        "start = datetime.now()\n",
        "\n",
        "path = \"sample_test_sparse_matrix.npz\"\n",
        "if os.path.isfile(path):\n",
        "    print(\"It is present in your pwd, getting it from disk....\")\n",
        "    sample_test_sparse_matrix = sparse.load_npz(path)\n",
        "    print(\"DONE..\")\n",
        "else:\n",
        "    sample_test_sparse_matrix = get_sample_sparse_matrix(test_sparse_matrix, no_users=4000, no_movies=800,\n",
        "                                                 path = \"sample_test_sparse_matrix.npz\")\n",
        "print(datetime.now() - start)"
      ]
    },
    {
      "cell_type": "code",
      "execution_count": null,
      "metadata": {
        "id": "JP5Ibuny57-j"
      },
      "outputs": [],
      "source": [
        "sample_train_averages = dict()"
      ]
    },
    {
      "cell_type": "code",
      "execution_count": null,
      "metadata": {
        "id": "4zRQZII657-j",
        "outputId": "fe671deb-b76e-4c6e-bd5f-1c67fbf996d6"
      },
      "outputs": [
        {
          "data": {
            "text/plain": [
              "{'global': 3.5532755795606263}"
            ]
          },
          "execution_count": 45,
          "metadata": {},
          "output_type": "execute_result"
        }
      ],
      "source": [
        "global_average = sample_train_sparse_matrix.sum()/sample_train_sparse_matrix.count_nonzero()\n",
        "sample_train_averages['global'] = global_average\n",
        "sample_train_averages"
      ]
    },
    {
      "cell_type": "code",
      "execution_count": null,
      "metadata": {
        "id": "zeVcyJHb57-k"
      },
      "outputs": [],
      "source": [
        "def get_average_ratings(sparse_matrix, of_users):\n",
        "    \n",
        "    ax = 1 if of_users else 0\n",
        "\n",
        "    sum_of_ratings = sparse_matrix.sum(axis=ax).A1\n",
        "    is_rated = sparse_matrix!=0\n",
        "    no_of_ratings = is_rated.sum(axis=ax).A1\n",
        "    \n",
        "    u,m = sparse_matrix.shape\n",
        "    average_ratings = { i : sum_of_ratings[i]/no_of_ratings[i]\n",
        "                                 for i in range(u if of_users else m) \n",
        "                                    if no_of_ratings[i] !=0}\n",
        "\n",
        "    return average_ratings"
      ]
    },
    {
      "cell_type": "code",
      "execution_count": null,
      "metadata": {
        "id": "oJY0OrjS57-k",
        "outputId": "c83a6942-58ef-4588-a2a6-3519d1f5e91c"
      },
      "outputs": [
        {
          "name": "stdout",
          "output_type": "stream",
          "text": [
            "\n",
            "Average rating of user 1515220 : 3.8857142857142857\n"
          ]
        }
      ],
      "source": [
        "sample_train_averages['user'] = get_average_ratings(sample_train_sparse_matrix, of_users=True)\n",
        "print('\\nAverage rating of user 1515220 :',sample_train_averages['user'][1515220])"
      ]
    },
    {
      "cell_type": "code",
      "execution_count": null,
      "metadata": {
        "id": "sxx0Tuws57-k",
        "outputId": "7bedf5d3-2819-4a71-f52b-736aef84e8e7"
      },
      "outputs": [
        {
          "name": "stdout",
          "output_type": "stream",
          "text": [
            "\n",
            " AVerage rating of movie 15153 : 2.675\n"
          ]
        }
      ],
      "source": [
        "sample_train_averages['movie'] =  get_average_ratings(sample_train_sparse_matrix, of_users=False)\n",
        "print('\\n AVerage rating of movie 15153 :',sample_train_averages['movie'][15153])"
      ]
    },
    {
      "cell_type": "code",
      "execution_count": null,
      "metadata": {
        "id": "J3-ZA2qX57-k",
        "outputId": "177dc0c8-5e53-4c47-d177-6d7175a15a2c"
      },
      "outputs": [
        {
          "name": "stdout",
          "output_type": "stream",
          "text": [
            "\n",
            " No of ratings in Our Sampled train matrix is : 131824\n",
            "\n",
            "\n",
            " No of ratings in Our Sampled test  matrix is : 10549\n",
            "\n"
          ]
        }
      ],
      "source": [
        "print('\\n No of ratings in Our Sampled train matrix is : {}\\n'.format(sample_train_sparse_matrix.count_nonzero()))\n",
        "print('\\n No of ratings in Our Sampled test  matrix is : {}\\n'.format(sample_test_sparse_matrix.count_nonzero()))"
      ]
    },
    {
      "cell_type": "markdown",
      "metadata": {
        "id": "bA0aCqkE57-l"
      },
      "source": [
        "### 7 Data preparation for Xgboost and Surprise Models"
      ]
    },
    {
      "cell_type": "markdown",
      "metadata": {
        "id": "gbAM0pcW57-l"
      },
      "source": [
        "##### 7.2 creating training dataset with 13 hand crafted feature which will be used in Xgboost-1"
      ]
    },
    {
      "cell_type": "markdown",
      "source": [
        "\n",
        "\n",
        "1.   GAvg: Average rating of all the movie ratings. \n",
        "2.   UAvg: Average rating of user($u_{i}$). Encodes how critical\n",
        "3.   MAvg: Average rating of movie($m_{j}$). Encodes how popular\n",
        "4.   Similar users rating of this movie($m_{j}$): By using the user-user similarity we will find the list of the users who are similar to the user ($u_{i}$), from this list we will select top 5 user who has watched the movie ($m_{j}$), and the rating given by these selected similar user to movie($m_{j}$) will become our features(sur1, sur2, sur3, sur4, sur5)..\n",
        "5.   Similar movies rated by this user($u_{i}$): By using the movie-movie similarity we will find the list of the similar movies watched by the user ($u_{i}$), from this list, ratings for top 5 similar movies, will become our features(smr1, smr2, smr3, smr4, smr5).\n",
        "\n"
      ],
      "metadata": {
        "id": "k9KVC4p1LlDf"
      }
    },
    {
      "cell_type": "code",
      "execution_count": null,
      "metadata": {
        "id": "ujuaPFsi57-l"
      },
      "outputs": [],
      "source": [
        "sample_train_users, sample_train_movies, sample_train_ratings = sparse.find(sample_train_sparse_matrix)"
      ]
    },
    {
      "cell_type": "code",
      "execution_count": null,
      "metadata": {
        "id": "VVRXf87n57-l",
        "outputId": "ee836803-0835-4cb6-e25c-a4d44a48369c"
      },
      "outputs": [
        {
          "name": "stdout",
          "output_type": "stream",
          "text": [
            "preparing 131824 tuples for the dataset..\n",
            "\n",
            "Done for 10000 rows----- 0:24:12.650755\n",
            "Done for 20000 rows----- 0:48:11.808792\n",
            "Done for 30000 rows----- 1:12:13.395938\n",
            "Done for 40000 rows----- 1:36:10.651453\n",
            "Done for 50000 rows----- 2:00:06.945781\n",
            "Done for 60000 rows----- 2:24:06.316285\n",
            "Done for 70000 rows----- 2:48:07.824200\n",
            "Done for 80000 rows----- 3:12:08.033919\n",
            "Done for 90000 rows----- 3:36:08.226511\n",
            "Done for 100000 rows----- 4:00:11.427325\n",
            "Done for 110000 rows----- 4:24:13.763329\n",
            "Done for 120000 rows----- 4:48:36.237948\n",
            "Done for 130000 rows----- 5:12:34.911949\n",
            "5:16:56.532352\n"
          ]
        }
      ],
      "source": [
        "start = datetime.now()\n",
        "if os.path.isfile('reg_train.csv'):\n",
        "    print(\"File already exists you don't have to prepare again...\" )\n",
        "else:\n",
        "    print('preparing {} tuples for the dataset..\\n'.format(len(sample_train_ratings)))\n",
        "    with open('reg_train.csv', mode='w') as reg_data_file:\n",
        "        count = 0\n",
        "        for (user, movie, rating)  in zip(sample_train_users, sample_train_movies, sample_train_ratings):\n",
        "            st = datetime.now()\n",
        "            user_sim = cosine_similarity(sample_train_sparse_matrix[user], sample_train_sparse_matrix).ravel()\n",
        "            top_sim_users = user_sim.argsort()[::-1][1:] \n",
        "            top_ratings = sample_train_sparse_matrix[top_sim_users, movie].toarray().ravel()\n",
        "            top_sim_users_ratings = list(top_ratings[top_ratings != 0][:5])\n",
        "            top_sim_users_ratings.extend([sample_train_averages['movie'][movie]]*(5 - len(top_sim_users_ratings)))\n",
        "            movie_sim = cosine_similarity(sample_train_sparse_matrix[:,movie].T, sample_train_sparse_matrix.T).ravel()\n",
        "            top_sim_movies = movie_sim.argsort()[::-1][1:] \n",
        "            top_ratings = sample_train_sparse_matrix[user, top_sim_movies].toarray().ravel()\n",
        "            top_sim_movies_ratings = list(top_ratings[top_ratings != 0][:5])\n",
        "            top_sim_movies_ratings.extend([sample_train_averages['user'][user]]*(5-len(top_sim_movies_ratings)))\n",
        "            row = list()\n",
        "            row.append(user)\n",
        "            row.append(movie)\n",
        "            row.append(sample_train_averages['global'])\n",
        "            row.extend(top_sim_users_ratings)\n",
        "            row.extend(top_sim_movies_ratings)\n",
        "            row.append(sample_train_averages['user'][user])\n",
        "            row.append(sample_train_averages['movie'][movie])\n",
        "            row.append(rating)\n",
        "            count = count + 1\n",
        "            reg_data_file.write(','.join(map(str, row)))\n",
        "            reg_data_file.write('\\n')        \n",
        "            if (count)%10000 == 0:\n",
        "                print(\"Done for {} rows----- {}\".format(count, datetime.now() - start))\n",
        "print(datetime.now() - start)"
      ]
    },
    {
      "cell_type": "markdown",
      "metadata": {
        "id": "v1V_Ej8257-m"
      },
      "source": [
        "##### 7.3 Creating panda dataframe for the train dataset Xgboost-1 to diplay the handcrafted 13 features"
      ]
    },
    {
      "cell_type": "code",
      "execution_count": null,
      "metadata": {
        "id": "m2tagAvi57-m",
        "outputId": "c87eef19-6dfb-46f0-bb6a-a30a1c8ae82c"
      },
      "outputs": [
        {
          "data": {
            "text/html": [
              "<div>\n",
              "<style scoped>\n",
              "    .dataframe tbody tr th:only-of-type {\n",
              "        vertical-align: middle;\n",
              "    }\n",
              "\n",
              "    .dataframe tbody tr th {\n",
              "        vertical-align: top;\n",
              "    }\n",
              "\n",
              "    .dataframe thead th {\n",
              "        text-align: right;\n",
              "    }\n",
              "</style>\n",
              "<table border=\"1\" class=\"dataframe\">\n",
              "  <thead>\n",
              "    <tr style=\"text-align: right;\">\n",
              "      <th></th>\n",
              "      <th>user</th>\n",
              "      <th>movie</th>\n",
              "      <th>GAvg</th>\n",
              "      <th>sur1</th>\n",
              "      <th>sur2</th>\n",
              "      <th>sur3</th>\n",
              "      <th>sur4</th>\n",
              "      <th>sur5</th>\n",
              "      <th>smr1</th>\n",
              "      <th>smr2</th>\n",
              "      <th>smr3</th>\n",
              "      <th>smr4</th>\n",
              "      <th>smr5</th>\n",
              "      <th>UAvg</th>\n",
              "      <th>MAvg</th>\n",
              "      <th>rating</th>\n",
              "    </tr>\n",
              "  </thead>\n",
              "  <tbody>\n",
              "    <tr>\n",
              "      <th>0</th>\n",
              "      <td>53406</td>\n",
              "      <td>33</td>\n",
              "      <td>3.553276</td>\n",
              "      <td>4.0</td>\n",
              "      <td>5.0</td>\n",
              "      <td>1.0</td>\n",
              "      <td>5.0</td>\n",
              "      <td>3.0</td>\n",
              "      <td>5.0</td>\n",
              "      <td>2.0</td>\n",
              "      <td>5.0</td>\n",
              "      <td>3.0</td>\n",
              "      <td>3.0</td>\n",
              "      <td>3.366667</td>\n",
              "      <td>4.066667</td>\n",
              "      <td>4</td>\n",
              "    </tr>\n",
              "    <tr>\n",
              "      <th>1</th>\n",
              "      <td>99865</td>\n",
              "      <td>33</td>\n",
              "      <td>3.553276</td>\n",
              "      <td>5.0</td>\n",
              "      <td>5.0</td>\n",
              "      <td>4.0</td>\n",
              "      <td>4.0</td>\n",
              "      <td>5.0</td>\n",
              "      <td>5.0</td>\n",
              "      <td>4.0</td>\n",
              "      <td>5.0</td>\n",
              "      <td>4.0</td>\n",
              "      <td>5.0</td>\n",
              "      <td>3.639344</td>\n",
              "      <td>4.066667</td>\n",
              "      <td>5</td>\n",
              "    </tr>\n",
              "    <tr>\n",
              "      <th>2</th>\n",
              "      <td>101620</td>\n",
              "      <td>33</td>\n",
              "      <td>3.553276</td>\n",
              "      <td>2.0</td>\n",
              "      <td>3.0</td>\n",
              "      <td>5.0</td>\n",
              "      <td>5.0</td>\n",
              "      <td>4.0</td>\n",
              "      <td>4.0</td>\n",
              "      <td>3.0</td>\n",
              "      <td>3.0</td>\n",
              "      <td>4.0</td>\n",
              "      <td>5.0</td>\n",
              "      <td>3.571429</td>\n",
              "      <td>4.066667</td>\n",
              "      <td>5</td>\n",
              "    </tr>\n",
              "    <tr>\n",
              "      <th>3</th>\n",
              "      <td>112974</td>\n",
              "      <td>33</td>\n",
              "      <td>3.553276</td>\n",
              "      <td>5.0</td>\n",
              "      <td>5.0</td>\n",
              "      <td>5.0</td>\n",
              "      <td>4.0</td>\n",
              "      <td>5.0</td>\n",
              "      <td>3.0</td>\n",
              "      <td>5.0</td>\n",
              "      <td>5.0</td>\n",
              "      <td>5.0</td>\n",
              "      <td>5.0</td>\n",
              "      <td>3.705882</td>\n",
              "      <td>4.066667</td>\n",
              "      <td>5</td>\n",
              "    </tr>\n",
              "    <tr>\n",
              "      <th>4</th>\n",
              "      <td>125275</td>\n",
              "      <td>33</td>\n",
              "      <td>3.553276</td>\n",
              "      <td>2.0</td>\n",
              "      <td>3.0</td>\n",
              "      <td>4.0</td>\n",
              "      <td>5.0</td>\n",
              "      <td>5.0</td>\n",
              "      <td>3.0</td>\n",
              "      <td>2.0</td>\n",
              "      <td>2.0</td>\n",
              "      <td>3.0</td>\n",
              "      <td>3.0</td>\n",
              "      <td>3.320000</td>\n",
              "      <td>4.066667</td>\n",
              "      <td>4</td>\n",
              "    </tr>\n",
              "  </tbody>\n",
              "</table>\n",
              "</div>"
            ],
            "text/plain": [
              "     user  movie      GAvg  sur1  sur2  sur3  sur4  sur5  smr1  smr2  smr3   \n",
              "0   53406     33  3.553276   4.0   5.0   1.0   5.0   3.0   5.0   2.0   5.0  \\\n",
              "1   99865     33  3.553276   5.0   5.0   4.0   4.0   5.0   5.0   4.0   5.0   \n",
              "2  101620     33  3.553276   2.0   3.0   5.0   5.0   4.0   4.0   3.0   3.0   \n",
              "3  112974     33  3.553276   5.0   5.0   5.0   4.0   5.0   3.0   5.0   5.0   \n",
              "4  125275     33  3.553276   2.0   3.0   4.0   5.0   5.0   3.0   2.0   2.0   \n",
              "\n",
              "   smr4  smr5      UAvg      MAvg  rating  \n",
              "0   3.0   3.0  3.366667  4.066667       4  \n",
              "1   4.0   5.0  3.639344  4.066667       5  \n",
              "2   4.0   5.0  3.571429  4.066667       5  \n",
              "3   5.0   5.0  3.705882  4.066667       5  \n",
              "4   3.0   3.0  3.320000  4.066667       4  "
            ]
          },
          "execution_count": 55,
          "metadata": {},
          "output_type": "execute_result"
        }
      ],
      "source": [
        "reg_train = pd.read_csv('reg_train.csv', names = ['user', 'movie', 'GAvg', 'sur1', 'sur2', 'sur3', 'sur4', 'sur5','smr1', 'smr2', 'smr3', 'smr4', 'smr5', 'UAvg', 'MAvg', 'rating'], header=None)\n",
        "reg_train.head()"
      ]
    },
    {
      "cell_type": "markdown",
      "metadata": {
        "id": "YvdGgn4i57-m"
      },
      "source": [
        "##### 7.5 creating test dataset with 13 hand crafted feature which will be used in Xgboost-1 for testing"
      ]
    },
    {
      "cell_type": "code",
      "execution_count": null,
      "metadata": {
        "id": "QoLhj0mf57-m"
      },
      "outputs": [],
      "source": [
        "sample_test_users, sample_test_movies, sample_test_ratings = sparse.find(sample_test_sparse_matrix)\n"
      ]
    },
    {
      "cell_type": "code",
      "execution_count": null,
      "metadata": {
        "id": "6dEKCgcx57-n",
        "outputId": "6a8b87b6-6be7-4462-c76a-d1e5b93295d8"
      },
      "outputs": [
        {
          "name": "stdout",
          "output_type": "stream",
          "text": [
            "preparing 10549 tuples for the dataset..\n",
            "\n",
            "Done for 1000 rows----- 0:02:19.350313\n",
            "Done for 2000 rows----- 0:04:40.942058\n",
            "Done for 3000 rows----- 0:07:02.941323\n",
            "Done for 4000 rows----- 0:09:25.459517\n",
            "Done for 5000 rows----- 0:11:48.046366\n",
            "Done for 6000 rows----- 0:14:10.023946\n",
            "Done for 7000 rows----- 0:16:31.399979\n",
            "Done for 8000 rows----- 0:18:50.699090\n",
            "Done for 9000 rows----- 0:21:10.270508\n",
            "Done for 10000 rows----- 0:23:29.851301\n",
            " 0:24:47.652507\n"
          ]
        }
      ],
      "source": [
        "start = datetime.now()\n",
        "\n",
        "if os.path.isfile('reg_test.csv'):\n",
        "    print(\"It is already created...\")\n",
        "else:\n",
        "\n",
        "    print('preparing {} tuples for the dataset..\\n'.format(len(sample_test_ratings)))\n",
        "    with open('reg_test.csv', mode='w') as reg_data_file:\n",
        "        count = 0 \n",
        "        for (user, movie, rating)  in zip(sample_test_users, sample_test_movies, sample_test_ratings):\n",
        "            st = datetime.now()\n",
        "            try:   \n",
        "                user_sim = cosine_similarity(sample_train_sparse_matrix[user], sample_train_sparse_matrix).ravel()\n",
        "                top_sim_users = user_sim.argsort()[::-1][1:] \n",
        "                top_ratings = sample_train_sparse_matrix[top_sim_users, movie].toarray().ravel()\n",
        "                top_sim_users_ratings = list(top_ratings[top_ratings != 0][:5])\n",
        "                top_sim_users_ratings.extend([sample_train_averages['movie'][movie]]*(5 - len(top_sim_users_ratings)))\n",
        "            except (IndexError, KeyError):\n",
        "                top_sim_users_ratings.extend([sample_train_averages['global']]*(5 - len(top_sim_users_ratings)))\n",
        "            except:\n",
        "                print(user, movie)\n",
        "                raise\n",
        "\n",
        "            #--------------------- Ratings by \"user\"  to similar movies of \"movie\" ---------------------\n",
        "            try:\n",
        "                movie_sim = cosine_similarity(sample_train_sparse_matrix[:,movie].T, sample_train_sparse_matrix.T).ravel()\n",
        "                top_sim_movies = movie_sim.argsort()[::-1][1:] \n",
        "                top_ratings = sample_train_sparse_matrix[user, top_sim_movies].toarray().ravel()\n",
        "                top_sim_movies_ratings = list(top_ratings[top_ratings != 0][:5])\n",
        "                top_sim_movies_ratings.extend([sample_train_averages['user'][user]]*(5-len(top_sim_movies_ratings))) \n",
        "            except (IndexError, KeyError):\n",
        "                top_sim_movies_ratings.extend([sample_train_averages['global']]*(5-len(top_sim_movies_ratings)))\n",
        "            except :\n",
        "                raise\n",
        "            row = list()\n",
        "            row.append(user)\n",
        "            row.append(movie)\n",
        "            row.append(sample_train_averages['global'])\n",
        "            row.extend(top_sim_users_ratings)\n",
        "            row.extend(top_sim_movies_ratings)\n",
        "            try:\n",
        "                row.append(sample_train_averages['user'][user])\n",
        "            except KeyError:\n",
        "                row.append(sample_train_averages['global'])\n",
        "            except:\n",
        "                raise\n",
        "            try:\n",
        "                row.append(sample_train_averages['movie'][movie])\n",
        "            except KeyError:\n",
        "                row.append(sample_train_averages['global'])\n",
        "            except:\n",
        "                raise\n",
        "            row.append(rating)\n",
        "            count = count + 1\n",
        "            reg_data_file.write(','.join(map(str, row)))\n",
        "            reg_data_file.write('\\n')        \n",
        "            if (count)%1000 == 0:\n",
        "                print(\"Done for {} rows----- {}\".format(count, datetime.now() - start))\n",
        "    print(\"\",datetime.now() - start)  "
      ]
    },
    {
      "cell_type": "markdown",
      "metadata": {
        "id": "OUNXI0hB57-n"
      },
      "source": [
        "##### 7.6 Creating panda dataframe for the test dataset for Xgboost-1"
      ]
    },
    {
      "cell_type": "code",
      "execution_count": null,
      "metadata": {
        "id": "xSlgowbN57-n",
        "outputId": "8f465b1b-8f9a-4e39-8608-2a7058725513"
      },
      "outputs": [
        {
          "data": {
            "text/html": [
              "<div>\n",
              "<style scoped>\n",
              "    .dataframe tbody tr th:only-of-type {\n",
              "        vertical-align: middle;\n",
              "    }\n",
              "\n",
              "    .dataframe tbody tr th {\n",
              "        vertical-align: top;\n",
              "    }\n",
              "\n",
              "    .dataframe thead th {\n",
              "        text-align: right;\n",
              "    }\n",
              "</style>\n",
              "<table border=\"1\" class=\"dataframe\">\n",
              "  <thead>\n",
              "    <tr style=\"text-align: right;\">\n",
              "      <th></th>\n",
              "      <th>user</th>\n",
              "      <th>movie</th>\n",
              "      <th>GAvg</th>\n",
              "      <th>sur1</th>\n",
              "      <th>sur2</th>\n",
              "      <th>sur3</th>\n",
              "      <th>sur4</th>\n",
              "      <th>sur5</th>\n",
              "      <th>smr1</th>\n",
              "      <th>smr2</th>\n",
              "      <th>smr3</th>\n",
              "      <th>smr4</th>\n",
              "      <th>smr5</th>\n",
              "      <th>UAvg</th>\n",
              "      <th>MAvg</th>\n",
              "      <th>rating</th>\n",
              "    </tr>\n",
              "  </thead>\n",
              "  <tbody>\n",
              "    <tr>\n",
              "      <th>0</th>\n",
              "      <td>808635</td>\n",
              "      <td>71</td>\n",
              "      <td>3.553276</td>\n",
              "      <td>3.553276</td>\n",
              "      <td>3.553276</td>\n",
              "      <td>3.553276</td>\n",
              "      <td>3.553276</td>\n",
              "      <td>3.553276</td>\n",
              "      <td>3.553276</td>\n",
              "      <td>3.553276</td>\n",
              "      <td>3.553276</td>\n",
              "      <td>3.553276</td>\n",
              "      <td>3.553276</td>\n",
              "      <td>3.553276</td>\n",
              "      <td>3.553276</td>\n",
              "      <td>5</td>\n",
              "    </tr>\n",
              "    <tr>\n",
              "      <th>1</th>\n",
              "      <td>941866</td>\n",
              "      <td>71</td>\n",
              "      <td>3.553276</td>\n",
              "      <td>3.553276</td>\n",
              "      <td>3.553276</td>\n",
              "      <td>3.553276</td>\n",
              "      <td>3.553276</td>\n",
              "      <td>3.553276</td>\n",
              "      <td>3.553276</td>\n",
              "      <td>3.553276</td>\n",
              "      <td>3.553276</td>\n",
              "      <td>3.553276</td>\n",
              "      <td>3.553276</td>\n",
              "      <td>3.553276</td>\n",
              "      <td>3.553276</td>\n",
              "      <td>4</td>\n",
              "    </tr>\n",
              "    <tr>\n",
              "      <th>2</th>\n",
              "      <td>1737912</td>\n",
              "      <td>71</td>\n",
              "      <td>3.553276</td>\n",
              "      <td>3.553276</td>\n",
              "      <td>3.553276</td>\n",
              "      <td>3.553276</td>\n",
              "      <td>3.553276</td>\n",
              "      <td>3.553276</td>\n",
              "      <td>3.553276</td>\n",
              "      <td>3.553276</td>\n",
              "      <td>3.553276</td>\n",
              "      <td>3.553276</td>\n",
              "      <td>3.553276</td>\n",
              "      <td>3.553276</td>\n",
              "      <td>3.553276</td>\n",
              "      <td>3</td>\n",
              "    </tr>\n",
              "    <tr>\n",
              "      <th>3</th>\n",
              "      <td>1849204</td>\n",
              "      <td>71</td>\n",
              "      <td>3.553276</td>\n",
              "      <td>3.553276</td>\n",
              "      <td>3.553276</td>\n",
              "      <td>3.553276</td>\n",
              "      <td>3.553276</td>\n",
              "      <td>3.553276</td>\n",
              "      <td>3.553276</td>\n",
              "      <td>3.553276</td>\n",
              "      <td>3.553276</td>\n",
              "      <td>3.553276</td>\n",
              "      <td>3.553276</td>\n",
              "      <td>3.553276</td>\n",
              "      <td>3.553276</td>\n",
              "      <td>4</td>\n",
              "    </tr>\n",
              "  </tbody>\n",
              "</table>\n",
              "</div>"
            ],
            "text/plain": [
              "      user  movie      GAvg      sur1      sur2      sur3      sur4      sur5   \n",
              "0   808635     71  3.553276  3.553276  3.553276  3.553276  3.553276  3.553276  \\\n",
              "1   941866     71  3.553276  3.553276  3.553276  3.553276  3.553276  3.553276   \n",
              "2  1737912     71  3.553276  3.553276  3.553276  3.553276  3.553276  3.553276   \n",
              "3  1849204     71  3.553276  3.553276  3.553276  3.553276  3.553276  3.553276   \n",
              "\n",
              "       smr1      smr2      smr3      smr4      smr5      UAvg      MAvg   \n",
              "0  3.553276  3.553276  3.553276  3.553276  3.553276  3.553276  3.553276  \\\n",
              "1  3.553276  3.553276  3.553276  3.553276  3.553276  3.553276  3.553276   \n",
              "2  3.553276  3.553276  3.553276  3.553276  3.553276  3.553276  3.553276   \n",
              "3  3.553276  3.553276  3.553276  3.553276  3.553276  3.553276  3.553276   \n",
              "\n",
              "   rating  \n",
              "0       5  \n",
              "1       4  \n",
              "2       3  \n",
              "3       4  "
            ]
          },
          "execution_count": 59,
          "metadata": {},
          "output_type": "execute_result"
        }
      ],
      "source": [
        "reg_test_df = pd.read_csv('reg_test.csv', names = ['user', 'movie', 'GAvg', 'sur1', 'sur2', 'sur3', 'sur4', 'sur5',\n",
        "                                                          'smr1', 'smr2', 'smr3', 'smr4', 'smr5',\n",
        "                                                          'UAvg', 'MAvg', 'rating'], header=None)\n",
        "reg_test_df.head(4)"
      ]
    },
    {
      "cell_type": "markdown",
      "metadata": {
        "id": "vTAra_Bx57-o"
      },
      "source": [
        "### 8. Convertion of dataset in which surprise Library works "
      ]
    },
    {
      "cell_type": "markdown",
      "source": [
        "* From train sampled sparse matrix we are creating data in user, movie and rating format specified by the surprise library, for the conversion we are using Dataset.load_from_df method provied by surprise library"
      ],
      "metadata": {
        "id": "ypEpTlErj2GX"
      }
    },
    {
      "cell_type": "code",
      "execution_count": null,
      "metadata": {
        "id": "P1P4AzAR57-o"
      },
      "outputs": [],
      "source": [
        "from surprise import Reader, Dataset"
      ]
    },
    {
      "cell_type": "code",
      "execution_count": null,
      "metadata": {
        "id": "4v78jwPF57-o"
      },
      "outputs": [],
      "source": [
        "reader = Reader(rating_scale=(1,5))\n",
        "train_data = Dataset.load_from_df(reg_train[['user', 'movie', 'rating']], reader)\n",
        "trainset = train_data.build_full_trainset() "
      ]
    },
    {
      "cell_type": "code",
      "execution_count": null,
      "metadata": {
        "id": "_N9sgZnD57-o",
        "outputId": "3128f9ae-ce7b-4848-d965-201d27d410ef"
      },
      "outputs": [
        {
          "data": {
            "text/plain": [
              "[(808635, 71, 5), (941866, 71, 4), (1737912, 71, 3)]"
            ]
          },
          "execution_count": 62,
          "metadata": {},
          "output_type": "execute_result"
        }
      ],
      "source": [
        "testset = list(zip(reg_test_df.user.values, reg_test_df.movie.values, reg_test_df.rating.values))\n",
        "testset[:3]"
      ]
    },
    {
      "cell_type": "code",
      "execution_count": null,
      "metadata": {
        "id": "HpOuOPda57-o",
        "outputId": "dda8022c-1576-4c5a-f810-5fd31e94c71e"
      },
      "outputs": [
        {
          "data": {
            "text/plain": [
              "({}, {})"
            ]
          },
          "execution_count": 63,
          "metadata": {},
          "output_type": "execute_result"
        }
      ],
      "source": [
        "models_evaluation_train = dict()\n",
        "models_evaluation_test = dict()\n",
        "\n",
        "models_evaluation_train, models_evaluation_test"
      ]
    },
    {
      "cell_type": "markdown",
      "metadata": {
        "id": "bOtNCWBO57-p"
      },
      "source": [
        "### 9. Creating Xgboost model"
      ]
    },
    {
      "cell_type": "code",
      "execution_count": null,
      "metadata": {
        "id": "jTMaqdnR57-p"
      },
      "outputs": [],
      "source": [
        "def get_error_metrics(y_true, y_pred):\n",
        "    rmse = np.sqrt(np.mean([ (y_true[i] - y_pred[i])**2 for i in range(len(y_pred)) ]))\n",
        "    mape = np.mean(np.abs( (y_true - y_pred)/y_true )) * 100\n",
        "    return rmse, mape\n",
        "    \n",
        "def run_xgboost(algo,  x_train, y_train, x_test, y_test, verbose=True):\n",
        "    train_results = dict()\n",
        "    test_results = dict()\n",
        "    print('Training the model..')\n",
        "    start =datetime.now()\n",
        "    algo.fit(x_train, y_train, eval_metric = 'rmse')\n",
        "    print('Done. Time taken : {}\\n'.format(datetime.now()-start))\n",
        "    print('Done \\n')\n",
        "    print('Evaluating the model with TRAIN data...')\n",
        "    start =datetime.now()\n",
        "    y_train_pred = algo.predict(x_train)\n",
        "    rmse_train, mape_train = get_error_metrics(y_train.values, y_train_pred)\n",
        "    train_results = {'rmse': rmse_train,\n",
        "                    'mape' : mape_train,\n",
        "                    'predictions' : y_train_pred}\n",
        "    print('Evaluating Test data')\n",
        "    y_test_pred = algo.predict(x_test) \n",
        "    rmse_test, mape_test = get_error_metrics(y_true=y_test.values, y_pred=y_test_pred)\n",
        "    test_results = {'rmse': rmse_test,\n",
        "                    'mape' : mape_test,\n",
        "                    'predictions':y_test_pred}\n",
        "    if verbose:\n",
        "        print('\\nTEST DATA')\n",
        "        print('-'*30)\n",
        "        print('RMSE : ', rmse_test)\n",
        "        print('MAPE : ', mape_test)\n",
        "    return train_results, test_results\n",
        "    "
      ]
    },
    {
      "cell_type": "code",
      "execution_count": null,
      "metadata": {
        "id": "Y3L3a8Ux57-p"
      },
      "outputs": [],
      "source": [
        "my_seed = 15\n",
        "random.seed(my_seed)\n",
        "np.random.seed(my_seed)\n",
        "\n",
        "def get_ratings(predictions):\n",
        "    actual = np.array([pred.r_ui for pred in predictions])\n",
        "    pred = np.array([pred.est for pred in predictions])\n",
        "    \n",
        "    return actual, pred\n",
        "\n",
        "def get_errors(predictions, print_them=False):\n",
        "\n",
        "    actual, pred = get_ratings(predictions)\n",
        "    rmse = np.sqrt(np.mean((pred - actual)**2))\n",
        "    mape = np.mean(np.abs(pred - actual)/actual)\n",
        "\n",
        "    return rmse, mape*100\n",
        "\n",
        "def run_surprise(algo, trainset, testset, verbose=True): \n",
        "    '''\n",
        "        return train_dict, test_dict\n",
        "    \n",
        "        It returns two dictionaries, one for train and the other is for test\n",
        "        Each of them have 3 key-value pairs, which specify ''rmse'', ''mape'', and ''predicted ratings''.\n",
        "    '''\n",
        "    start = datetime.now()\n",
        "    train = dict()\n",
        "    test = dict()\n",
        "    \n",
        "    st = datetime.now()\n",
        "    print('Training the model...')\n",
        "    algo.fit(trainset)\n",
        "    print('Done. time taken : {} \\n'.format(datetime.now()-st))\n",
        "    \n",
        "    st = datetime.now()\n",
        "    print('Evaluating the model with train data..')\n",
        "    train_preds = algo.test(trainset.build_testset())\n",
        "    train_actual_ratings, train_pred_ratings = get_ratings(train_preds)\n",
        "    train_rmse, train_mape = get_errors(train_preds)\n",
        "    print('time taken : {}'.format(datetime.now()-st))\n",
        "    \n",
        "    if verbose:\n",
        "        print('-'*15)\n",
        "        print('Train Data')\n",
        "        print('-'*15)\n",
        "        print(\"RMSE : {}\\n\\nMAPE : {}\\n\".format(train_rmse, train_mape))\n",
        "    \n",
        "    if verbose:\n",
        "        print('adding train results in the dictionary..')\n",
        "    train['rmse'] = train_rmse\n",
        "    train['mape'] = train_mape\n",
        "    train['predictions'] = train_pred_ratings\n",
        "    \n",
        "    st = datetime.now()\n",
        "    print('\\nEvaluating for test data...')\n",
        "    test_preds = algo.test(testset)\n",
        "    test_actual_ratings, test_pred_ratings = get_ratings(test_preds)\n",
        "    test_rmse, test_mape = get_errors(test_preds)\n",
        "    print('time taken : {}'.format(datetime.now()-st))\n",
        "    \n",
        "    if verbose:\n",
        "        print('-'*15)\n",
        "        print('Test Data')\n",
        "        print('-'*15)\n",
        "        print(\"RMSE : {}\\n\\nMAPE : {}\\n\".format(test_rmse, test_mape))\n",
        "    if verbose:\n",
        "        print('storing the test results in test dictionary...')\n",
        "    test['rmse'] = test_rmse\n",
        "    test['mape'] = test_mape\n",
        "    test['predictions'] = test_pred_ratings\n",
        "    \n",
        "    print('\\n'+'-'*45)\n",
        "    print('Total time taken to run this algorithm :', datetime.now() - start)\n",
        "    return train, test"
      ]
    },
    {
      "cell_type": "code",
      "execution_count": null,
      "metadata": {
        "id": "-KAzX87f57-q"
      },
      "outputs": [],
      "source": [
        "import xgboost as xgb"
      ]
    },
    {
      "cell_type": "markdown",
      "metadata": {
        "id": "ZM4Hk0XW57-q"
      },
      "source": [
        "### 10. XgBoost-13 with 13 Features"
      ]
    },
    {
      "cell_type": "code",
      "execution_count": null,
      "metadata": {
        "id": "SlrmjLlr57-q",
        "outputId": "e34eff4f-98aa-45e0-c4cf-3668af58c530"
      },
      "outputs": [
        {
          "name": "stdout",
          "output_type": "stream",
          "text": [
            "Training the model..\n",
            "[23:30:33] WARNING: ../src/learner.cc:767: \n",
            "Parameters: { \"silent\" } are not used.\n",
            "\n"
          ]
        },
        {
          "name": "stderr",
          "output_type": "stream",
          "text": [
            "/home/shantanu/miniconda3/envs/sarvesh/lib/python3.11/site-packages/xgboost/sklearn.py:835: UserWarning: `eval_metric` in `fit` method is deprecated for better compatibility with scikit-learn, use `eval_metric` in constructor or`set_params` instead.\n",
            "  warnings.warn(\n"
          ]
        },
        {
          "name": "stdout",
          "output_type": "stream",
          "text": [
            "Done. Time taken : 0:00:01.367501\n",
            "\n",
            "Done \n",
            "\n",
            "Evaluating the model with TRAIN data...\n",
            "Evaluating Test data\n",
            "\n",
            "TEST DATA\n",
            "------------------------------\n",
            "RMSE :  1.1469005696747614\n",
            "MAPE :  32.19581707015769\n"
          ]
        },
        {
          "data": {
            "image/png": "[encoded data removed]",
            "text/plain": [
              "<Figure size 640x480 with 1 Axes>"
            ]
          },
          "metadata": {},
          "output_type": "display_data"
        }
      ],
      "source": [
        "# prepare Train data\n",
        "x_train = reg_train.drop(['user','movie','rating'], axis=1)\n",
        "y_train = reg_train['rating']\n",
        "\n",
        "# Prepare Test data\n",
        "x_test = reg_test_df.drop(['user','movie','rating'], axis=1)\n",
        "y_test = reg_test_df['rating']\n",
        "\n",
        "first_xgb = xgb.XGBRegressor(silent=False, n_jobs=13, random_state=15, n_estimators=100)\n",
        "train_results, test_results = run_xgboost(first_xgb, x_train, y_train, x_test, y_test)\n",
        "\n",
        "models_evaluation_train['first_algo'] = train_results\n",
        "models_evaluation_test['first_algo'] = test_results\n",
        "\n",
        "xgb.plot_importance(first_xgb)\n",
        "plt.show()"
      ]
    },
    {
      "cell_type": "markdown",
      "metadata": {
        "id": "ToJ5XkgM57-r"
      },
      "source": [
        "### 11. Surprise- BaseLine"
      ]
    },
    {
      "cell_type": "markdown",
      "source": [
        "In Surprise, the baseline model is a simple model that predicts the rating for each item and user. The predicted rating for a given user-item pair is calculated as follows:\n",
        "\\begin{align}\n",
        "    \\large {\\hat{r}_{ui} = b_{ui} =\\mu + b_u + b_i} \n",
        "\\end{align}\n",
        "where,\n",
        "\n",
        "\n",
        "-$\\mu $ : Average of all trainings in training data.\\\n",
        "-$b_u$ : User bias\\\n",
        "-$b_i$ : Item bias (movie biases) \n"
      ],
      "metadata": {
        "id": "ICYy3vXfk9ty"
      }
    },
    {
      "cell_type": "markdown",
      "source": [
        "Surprise provides a 'BaselineOnly' class that implements this baseline model. We have created an instance of 'BaselineOnly' and fit it to our data using the fit() method. It use the MSE loss with L2 regulariser as the optimizing function. The expression for the same is given by-\n",
        "\\begin{align}\n",
        "    \\arg \\min_{\\textbf{b_u, b_i}} \\sum_{r_{ui} \\in R_{train}} (\\left(r_{ui} - (\\mu + b_u + b_i)\\right)^2 +\n",
        "\\lambda \\left(b_u^2 + b_i^2 \\right)).\n",
        "\\end{align}"
      ],
      "metadata": {
        "id": "zSvi0HVDmAlK"
      }
    },
    {
      "cell_type": "code",
      "execution_count": null,
      "metadata": {
        "id": "wBVrb16M57-r"
      },
      "outputs": [],
      "source": [
        "from surprise import BaselineOnly "
      ]
    },
    {
      "cell_type": "code",
      "execution_count": null,
      "metadata": {
        "id": "zHyPyRTI57-r",
        "outputId": "3ab51d81-e14c-4a20-bd03-e76d61058496"
      },
      "outputs": [
        {
          "name": "stdout",
          "output_type": "stream",
          "text": [
            "Training the model...\n",
            "Estimating biases using sgd...\n",
            "Done. time taken : 0:00:00.657626 \n",
            "\n",
            "Evaluating the model with train data..\n",
            "time taken : 0:00:00.476155\n",
            "---------------\n",
            "Train Data\n",
            "---------------\n",
            "RMSE : 0.9352501242493785\n",
            "\n",
            "MAPE : 29.621523191097044\n",
            "\n",
            "adding train results in the dictionary..\n",
            "\n",
            "Evaluating for test data...\n",
            "time taken : 0:00:00.058623\n",
            "---------------\n",
            "Test Data\n",
            "---------------\n",
            "RMSE : 1.0697024551739118\n",
            "\n",
            "MAPE : 34.73596050802977\n",
            "\n",
            "storing the test results in test dictionary...\n",
            "\n",
            "---------------------------------------------\n",
            "Total time taken to run this algorithm : 0:00:01.192652\n"
          ]
        }
      ],
      "source": [
        "bsl_options = {'method': 'sgd',\n",
        "               'learning_rate': .001\n",
        "               }\n",
        "bsl_algo = BaselineOnly(bsl_options=bsl_options)\n",
        "bsl_train_results, bsl_test_results = run_surprise(bsl_algo, trainset, testset, verbose=True)\n",
        "\n",
        "models_evaluation_train['bsl_algo'] = bsl_train_results \n",
        "models_evaluation_test['bsl_algo'] = bsl_test_results"
      ]
    },
    {
      "cell_type": "code",
      "execution_count": null,
      "metadata": {
        "id": "upxUPkDW57-r",
        "outputId": "ec2aaf82-0bb3-43e9-aaae-ea5f45ca8032"
      },
      "outputs": [
        {
          "data": {
            "text/html": [
              "<div>\n",
              "<style scoped>\n",
              "    .dataframe tbody tr th:only-of-type {\n",
              "        vertical-align: middle;\n",
              "    }\n",
              "\n",
              "    .dataframe tbody tr th {\n",
              "        vertical-align: top;\n",
              "    }\n",
              "\n",
              "    .dataframe thead th {\n",
              "        text-align: right;\n",
              "    }\n",
              "</style>\n",
              "<table border=\"1\" class=\"dataframe\">\n",
              "  <thead>\n",
              "    <tr style=\"text-align: right;\">\n",
              "      <th></th>\n",
              "      <th>user</th>\n",
              "      <th>movie</th>\n",
              "      <th>GAvg</th>\n",
              "      <th>sur1</th>\n",
              "      <th>sur2</th>\n",
              "      <th>sur3</th>\n",
              "      <th>sur4</th>\n",
              "      <th>sur5</th>\n",
              "      <th>smr1</th>\n",
              "      <th>smr2</th>\n",
              "      <th>smr3</th>\n",
              "      <th>smr4</th>\n",
              "      <th>smr5</th>\n",
              "      <th>UAvg</th>\n",
              "      <th>MAvg</th>\n",
              "      <th>rating</th>\n",
              "      <th>bslpr</th>\n",
              "    </tr>\n",
              "  </thead>\n",
              "  <tbody>\n",
              "    <tr>\n",
              "      <th>0</th>\n",
              "      <td>53406</td>\n",
              "      <td>33</td>\n",
              "      <td>3.553276</td>\n",
              "      <td>4.0</td>\n",
              "      <td>5.0</td>\n",
              "      <td>1.0</td>\n",
              "      <td>5.0</td>\n",
              "      <td>3.0</td>\n",
              "      <td>5.0</td>\n",
              "      <td>2.0</td>\n",
              "      <td>5.0</td>\n",
              "      <td>3.0</td>\n",
              "      <td>3.0</td>\n",
              "      <td>3.366667</td>\n",
              "      <td>4.066667</td>\n",
              "      <td>4</td>\n",
              "      <td>3.850205</td>\n",
              "    </tr>\n",
              "    <tr>\n",
              "      <th>1</th>\n",
              "      <td>99865</td>\n",
              "      <td>33</td>\n",
              "      <td>3.553276</td>\n",
              "      <td>5.0</td>\n",
              "      <td>5.0</td>\n",
              "      <td>4.0</td>\n",
              "      <td>4.0</td>\n",
              "      <td>5.0</td>\n",
              "      <td>5.0</td>\n",
              "      <td>4.0</td>\n",
              "      <td>5.0</td>\n",
              "      <td>4.0</td>\n",
              "      <td>5.0</td>\n",
              "      <td>3.639344</td>\n",
              "      <td>4.066667</td>\n",
              "      <td>5</td>\n",
              "      <td>3.329564</td>\n",
              "    </tr>\n",
              "  </tbody>\n",
              "</table>\n",
              "</div>"
            ],
            "text/plain": [
              "    user  movie      GAvg  sur1  sur2  sur3  sur4  sur5  smr1  smr2  smr3   \n",
              "0  53406     33  3.553276   4.0   5.0   1.0   5.0   3.0   5.0   2.0   5.0  \\\n",
              "1  99865     33  3.553276   5.0   5.0   4.0   4.0   5.0   5.0   4.0   5.0   \n",
              "\n",
              "   smr4  smr5      UAvg      MAvg  rating     bslpr  \n",
              "0   3.0   3.0  3.366667  4.066667       4  3.850205  \n",
              "1   4.0   5.0  3.639344  4.066667       5  3.329564  "
            ]
          },
          "execution_count": 70,
          "metadata": {},
          "output_type": "execute_result"
        }
      ],
      "source": [
        "reg_train['bslpr'] = models_evaluation_train['bsl_algo']['predictions']\n",
        "reg_train.head(2) "
      ]
    },
    {
      "cell_type": "code",
      "execution_count": null,
      "metadata": {
        "id": "sm-YS1Eo57-r",
        "outputId": "81e0a5d3-ab05-4b4d-e89b-6a47c9edb055"
      },
      "outputs": [
        {
          "data": {
            "text/html": [
              "<div>\n",
              "<style scoped>\n",
              "    .dataframe tbody tr th:only-of-type {\n",
              "        vertical-align: middle;\n",
              "    }\n",
              "\n",
              "    .dataframe tbody tr th {\n",
              "        vertical-align: top;\n",
              "    }\n",
              "\n",
              "    .dataframe thead th {\n",
              "        text-align: right;\n",
              "    }\n",
              "</style>\n",
              "<table border=\"1\" class=\"dataframe\">\n",
              "  <thead>\n",
              "    <tr style=\"text-align: right;\">\n",
              "      <th></th>\n",
              "      <th>user</th>\n",
              "      <th>movie</th>\n",
              "      <th>GAvg</th>\n",
              "      <th>sur1</th>\n",
              "      <th>sur2</th>\n",
              "      <th>sur3</th>\n",
              "      <th>sur4</th>\n",
              "      <th>sur5</th>\n",
              "      <th>smr1</th>\n",
              "      <th>smr2</th>\n",
              "      <th>smr3</th>\n",
              "      <th>smr4</th>\n",
              "      <th>smr5</th>\n",
              "      <th>UAvg</th>\n",
              "      <th>MAvg</th>\n",
              "      <th>rating</th>\n",
              "      <th>bslpr</th>\n",
              "    </tr>\n",
              "  </thead>\n",
              "  <tbody>\n",
              "    <tr>\n",
              "      <th>0</th>\n",
              "      <td>808635</td>\n",
              "      <td>71</td>\n",
              "      <td>3.553276</td>\n",
              "      <td>3.553276</td>\n",
              "      <td>3.553276</td>\n",
              "      <td>3.553276</td>\n",
              "      <td>3.553276</td>\n",
              "      <td>3.553276</td>\n",
              "      <td>3.553276</td>\n",
              "      <td>3.553276</td>\n",
              "      <td>3.553276</td>\n",
              "      <td>3.553276</td>\n",
              "      <td>3.553276</td>\n",
              "      <td>3.553276</td>\n",
              "      <td>3.553276</td>\n",
              "      <td>5</td>\n",
              "      <td>3.553276</td>\n",
              "    </tr>\n",
              "    <tr>\n",
              "      <th>1</th>\n",
              "      <td>941866</td>\n",
              "      <td>71</td>\n",
              "      <td>3.553276</td>\n",
              "      <td>3.553276</td>\n",
              "      <td>3.553276</td>\n",
              "      <td>3.553276</td>\n",
              "      <td>3.553276</td>\n",
              "      <td>3.553276</td>\n",
              "      <td>3.553276</td>\n",
              "      <td>3.553276</td>\n",
              "      <td>3.553276</td>\n",
              "      <td>3.553276</td>\n",
              "      <td>3.553276</td>\n",
              "      <td>3.553276</td>\n",
              "      <td>3.553276</td>\n",
              "      <td>4</td>\n",
              "      <td>3.553276</td>\n",
              "    </tr>\n",
              "  </tbody>\n",
              "</table>\n",
              "</div>"
            ],
            "text/plain": [
              "     user  movie      GAvg      sur1      sur2      sur3      sur4      sur5   \n",
              "0  808635     71  3.553276  3.553276  3.553276  3.553276  3.553276  3.553276  \\\n",
              "1  941866     71  3.553276  3.553276  3.553276  3.553276  3.553276  3.553276   \n",
              "\n",
              "       smr1      smr2      smr3      smr4      smr5      UAvg      MAvg   \n",
              "0  3.553276  3.553276  3.553276  3.553276  3.553276  3.553276  3.553276  \\\n",
              "1  3.553276  3.553276  3.553276  3.553276  3.553276  3.553276  3.553276   \n",
              "\n",
              "   rating     bslpr  \n",
              "0       5  3.553276  \n",
              "1       4  3.553276  "
            ]
          },
          "execution_count": 71,
          "metadata": {},
          "output_type": "execute_result"
        }
      ],
      "source": [
        "reg_test_df['bslpr']  = models_evaluation_test['bsl_algo']['predictions']\n",
        "reg_test_df.head(2)"
      ]
    },
    {
      "cell_type": "markdown",
      "source": [
        "### 11. XgBoost-14 with 14 Features (13 handcrafted and output of baseline model)"
      ],
      "metadata": {
        "id": "K8OeuStLm9TO"
      }
    },
    {
      "cell_type": "code",
      "execution_count": null,
      "metadata": {
        "id": "-WA8oPum57-s",
        "outputId": "3c99848d-7f4f-4706-9277-6a2bf76ea11e"
      },
      "outputs": [
        {
          "name": "stdout",
          "output_type": "stream",
          "text": [
            "Training the model..\n",
            "[23:30:37] WARNING: ../src/learner.cc:767: \n",
            "Parameters: { \"silent\" } are not used.\n",
            "\n"
          ]
        },
        {
          "name": "stderr",
          "output_type": "stream",
          "text": [
            "/home/shantanu/miniconda3/envs/sarvesh/lib/python3.11/site-packages/xgboost/sklearn.py:835: UserWarning: `eval_metric` in `fit` method is deprecated for better compatibility with scikit-learn, use `eval_metric` in constructor or`set_params` instead.\n",
            "  warnings.warn(\n"
          ]
        },
        {
          "name": "stdout",
          "output_type": "stream",
          "text": [
            "Done. Time taken : 0:00:03.134396\n",
            "\n",
            "Done \n",
            "\n",
            "Evaluating the model with TRAIN data...\n",
            "Evaluating Test data\n",
            "\n",
            "TEST DATA\n",
            "------------------------------\n",
            "RMSE :  1.122584002182969\n",
            "MAPE :  32.592387852836154\n"
          ]
        },
        {
          "data": {
            "image/png": "[encoded data removed]",
            "text/plain": [
              "<Figure size 640x480 with 1 Axes>"
            ]
          },
          "metadata": {},
          "output_type": "display_data"
        }
      ],
      "source": [
        "# prepare train data\n",
        "x_train = reg_train.drop(['user', 'movie','rating'], axis=1)\n",
        "y_train = reg_train['rating']\n",
        "\n",
        "# Prepare Test data\n",
        "x_test = reg_test_df.drop(['user','movie','rating'], axis=1)\n",
        "y_test = reg_test_df['rating']\n",
        "\n",
        "xgb_bsl = xgb.XGBRegressor(silent=False, n_jobs=13, random_state=15, n_estimators=100)\n",
        "train_results, test_results = run_xgboost(xgb_bsl, x_train, y_train, x_test, y_test)\n",
        "\n",
        "models_evaluation_train['xgb_bsl'] = train_results\n",
        "models_evaluation_test['xgb_bsl'] = test_results\n",
        "\n",
        "xgb.plot_importance(xgb_bsl)\n",
        "plt.show()\n"
      ]
    },
    {
      "cell_type": "markdown",
      "metadata": {
        "id": "AKiuTg7S57-s"
      },
      "source": [
        "### 12. Surprise KNN"
      ]
    },
    {
      "cell_type": "markdown",
      "source": [
        "Surprise KNN Model using user-user similarity While creating handcrafted features (sur1, sur2, sur3, sur4, sur5) we have only focused on 5 similar(nearest) users. Thinking on similar lines, Surprise library has this awesome implementation of looking at K nearest neighbours(users), the KNN model, to predict the ratings. The expression for the same is given by - \n",
        "\\begin{align} \\bar{r}_{ui} = b_{ui} + \\frac{ \\sum\\limits_{v \\in N^k_i(u)}\n",
        "\\text{sim}(u, v) \\cdot (r_{vi} - b_{vi})} {\\sum\\limits_{v \\in\n",
        "N^k_i(u)} \\text{sim}(u, v)} \\end{align}\n",
        "where,\n",
        "    \n",
        "-$b_{ui}$: Baseline prediction of (user,movie) rating \\\n",
        "-$\\pmb{N_i^k (u)}$: Set of K similar users (neighbours) of user $u_{i}$ who rated movie $m_{j}$  \\\n",
        "-$\\pmb{sim (u, v)}$: Similarity between users u and v Generally, cosine similarity or Pearson correlation coefficient is used. But Surprise uses shrunk Pearson-baseline correlation coefficient, which is based on the pearson Baseline similarity.\n",
        "\n",
        "* same way we wll also use the output of Surprise KNN Model using movie-movie similarity\n",
        "\\begin{align} \n",
        "    \\hat{r}_{ui} = b_{ui} + \\frac{ \\sum\\limits_{j \\in N^k_u(i)}\\text{sim}(i, j) \\cdot (r_{uj} - b_{uj})} {\\sum\\limits_{j \\in N^k_u(j)} \\text{sim}(i, j)} \n",
        "\\end{align}\n",
        "\n",
        "where,\n",
        "    \n",
        "-$b_{ui}$: Baseline prediction of (user,movie) rating \\\n",
        "-$\\pmb{N_u^k (i)}$: Set of K similar movies (neighbours) of user $u_{i}$ who rated movie $m_{j}$  \\\n",
        "-$\\pmb{sim (i, j)}$: Similarity between movies i and j Generally, cosine similarity or Pearson correlation coefficient is used. But Surprise uses shrunk Pearson-baseline correlation coefficient, which is based on the pearson Baseline similarity.   "
      ],
      "metadata": {
        "id": "DBMWRVSenpBs"
      }
    },
    {
      "cell_type": "code",
      "execution_count": null,
      "metadata": {
        "id": "t1FBBal257-s"
      },
      "outputs": [],
      "source": [
        "from surprise import KNNBaseline"
      ]
    },
    {
      "cell_type": "code",
      "execution_count": null,
      "metadata": {
        "id": "Q8CyA9Ze57-s",
        "outputId": "79c6837a-d77f-4fd2-ca04-d2e889e1669e"
      },
      "outputs": [
        {
          "name": "stdout",
          "output_type": "stream",
          "text": [
            "Training the model...\n",
            "Estimating biases using sgd...\n",
            "Computing the pearson_baseline similarity matrix...\n",
            "Done computing similarity matrix.\n",
            "Done. time taken : 0:00:07.423937 \n",
            "\n",
            "Evaluating the model with train data..\n",
            "time taken : 0:00:49.668558\n",
            "---------------\n",
            "Train Data\n",
            "---------------\n",
            "RMSE : 0.34910729348179903\n",
            "\n",
            "MAPE : 9.583925071791903\n",
            "\n",
            "adding train results in the dictionary..\n",
            "\n",
            "Evaluating for test data...\n",
            "time taken : 0:00:00.072268\n",
            "---------------\n",
            "Test Data\n",
            "---------------\n",
            "RMSE : 1.0697479937154935\n",
            "\n",
            "MAPE : 34.781087228133536\n",
            "\n",
            "storing the test results in test dictionary...\n",
            "\n",
            "---------------------------------------------\n",
            "Total time taken to run this algorithm : 0:00:57.164934\n"
          ]
        }
      ],
      "source": [
        "sim_options = {'user_based' : True,\n",
        "               'name': 'pearson_baseline',\n",
        "               'shrinkage': 100,\n",
        "               'min_support': 2\n",
        "              } \n",
        "bsl_options = {'method': 'sgd'} \n",
        "\n",
        "knn_bsl_u = KNNBaseline(k=40, sim_options = sim_options, bsl_options = bsl_options)\n",
        "knn_bsl_u_train_results, knn_bsl_u_test_results = run_surprise(knn_bsl_u, trainset, testset, verbose=True)\n",
        "\n",
        "models_evaluation_train['knn_bsl_u'] = knn_bsl_u_train_results \n",
        "models_evaluation_test['knn_bsl_u'] = knn_bsl_u_test_results\n"
      ]
    },
    {
      "cell_type": "code",
      "execution_count": null,
      "metadata": {
        "id": "9MpqXRv857-t",
        "outputId": "371b2dba-2814-4ab0-e91a-0a5c3b06e114"
      },
      "outputs": [
        {
          "name": "stdout",
          "output_type": "stream",
          "text": [
            "Training the model...\n",
            "Estimating biases using sgd...\n",
            "Computing the pearson_baseline similarity matrix...\n",
            "Done computing similarity matrix.\n",
            "Done. time taken : 0:00:00.741675 \n",
            "\n",
            "Evaluating the model with train data..\n",
            "time taken : 0:00:05.493469\n",
            "---------------\n",
            "Train Data\n",
            "---------------\n",
            "RMSE : 0.3476982696336578\n",
            "\n",
            "MAPE : 9.162601873893975\n",
            "\n",
            "adding train results in the dictionary..\n",
            "\n",
            "Evaluating for test data...\n",
            "time taken : 0:00:00.063738\n",
            "---------------\n",
            "Test Data\n",
            "---------------\n",
            "RMSE : 1.0698742035453888\n",
            "\n",
            "MAPE : 34.78044266886377\n",
            "\n",
            "storing the test results in test dictionary...\n",
            "\n",
            "---------------------------------------------\n",
            "Total time taken to run this algorithm : 0:00:06.299061\n"
          ]
        }
      ],
      "source": [
        "sim_options = {'user_based' : False,\n",
        "               'name': 'pearson_baseline',\n",
        "               'shrinkage': 100,\n",
        "               'min_support': 2\n",
        "              } \n",
        "bsl_options = {'method': 'sgd'}\n",
        "\n",
        "\n",
        "knn_bsl_m = KNNBaseline(k=40, sim_options = sim_options, bsl_options = bsl_options)\n",
        "\n",
        "knn_bsl_m_train_results, knn_bsl_m_test_results = run_surprise(knn_bsl_m, trainset, testset, verbose=True)\n",
        "\n",
        "models_evaluation_train['knn_bsl_m'] = knn_bsl_m_train_results \n",
        "models_evaluation_test['knn_bsl_m'] = knn_bsl_m_test_results\n"
      ]
    },
    {
      "cell_type": "code",
      "execution_count": null,
      "metadata": {
        "id": "ty0ELABG57-t",
        "outputId": "3fcfb3a4-613d-42bc-aec4-96600601de3a"
      },
      "outputs": [
        {
          "data": {
            "text/html": [
              "<div>\n",
              "<style scoped>\n",
              "    .dataframe tbody tr th:only-of-type {\n",
              "        vertical-align: middle;\n",
              "    }\n",
              "\n",
              "    .dataframe tbody tr th {\n",
              "        vertical-align: top;\n",
              "    }\n",
              "\n",
              "    .dataframe thead th {\n",
              "        text-align: right;\n",
              "    }\n",
              "</style>\n",
              "<table border=\"1\" class=\"dataframe\">\n",
              "  <thead>\n",
              "    <tr style=\"text-align: right;\">\n",
              "      <th></th>\n",
              "      <th>user</th>\n",
              "      <th>movie</th>\n",
              "      <th>GAvg</th>\n",
              "      <th>sur1</th>\n",
              "      <th>sur2</th>\n",
              "      <th>sur3</th>\n",
              "      <th>sur4</th>\n",
              "      <th>sur5</th>\n",
              "      <th>smr1</th>\n",
              "      <th>smr2</th>\n",
              "      <th>smr3</th>\n",
              "      <th>smr4</th>\n",
              "      <th>smr5</th>\n",
              "      <th>UAvg</th>\n",
              "      <th>MAvg</th>\n",
              "      <th>rating</th>\n",
              "      <th>bslpr</th>\n",
              "      <th>knn_bsl_u</th>\n",
              "      <th>knn_bsl_m</th>\n",
              "    </tr>\n",
              "  </thead>\n",
              "  <tbody>\n",
              "    <tr>\n",
              "      <th>0</th>\n",
              "      <td>53406</td>\n",
              "      <td>33</td>\n",
              "      <td>3.553276</td>\n",
              "      <td>4.0</td>\n",
              "      <td>5.0</td>\n",
              "      <td>1.0</td>\n",
              "      <td>5.0</td>\n",
              "      <td>3.0</td>\n",
              "      <td>5.0</td>\n",
              "      <td>2.0</td>\n",
              "      <td>5.0</td>\n",
              "      <td>3.0</td>\n",
              "      <td>3.0</td>\n",
              "      <td>3.366667</td>\n",
              "      <td>4.066667</td>\n",
              "      <td>4</td>\n",
              "      <td>3.850205</td>\n",
              "      <td>3.905401</td>\n",
              "      <td>3.840851</td>\n",
              "    </tr>\n",
              "    <tr>\n",
              "      <th>1</th>\n",
              "      <td>99865</td>\n",
              "      <td>33</td>\n",
              "      <td>3.553276</td>\n",
              "      <td>5.0</td>\n",
              "      <td>5.0</td>\n",
              "      <td>4.0</td>\n",
              "      <td>4.0</td>\n",
              "      <td>5.0</td>\n",
              "      <td>5.0</td>\n",
              "      <td>4.0</td>\n",
              "      <td>5.0</td>\n",
              "      <td>4.0</td>\n",
              "      <td>5.0</td>\n",
              "      <td>3.639344</td>\n",
              "      <td>4.066667</td>\n",
              "      <td>5</td>\n",
              "      <td>3.329564</td>\n",
              "      <td>3.139832</td>\n",
              "      <td>3.101314</td>\n",
              "    </tr>\n",
              "  </tbody>\n",
              "</table>\n",
              "</div>"
            ],
            "text/plain": [
              "    user  movie      GAvg  sur1  sur2  sur3  sur4  sur5  smr1  smr2  smr3   \n",
              "0  53406     33  3.553276   4.0   5.0   1.0   5.0   3.0   5.0   2.0   5.0  \\\n",
              "1  99865     33  3.553276   5.0   5.0   4.0   4.0   5.0   5.0   4.0   5.0   \n",
              "\n",
              "   smr4  smr5      UAvg      MAvg  rating     bslpr  knn_bsl_u  knn_bsl_m  \n",
              "0   3.0   3.0  3.366667  4.066667       4  3.850205   3.905401   3.840851  \n",
              "1   4.0   5.0  3.639344  4.066667       5  3.329564   3.139832   3.101314  "
            ]
          },
          "execution_count": 76,
          "metadata": {},
          "output_type": "execute_result"
        }
      ],
      "source": [
        "reg_train['knn_bsl_u'] = models_evaluation_train['knn_bsl_u']['predictions']\n",
        "reg_train['knn_bsl_m'] = models_evaluation_train['knn_bsl_m']['predictions']\n",
        "\n",
        "reg_train.head(2)"
      ]
    },
    {
      "cell_type": "code",
      "execution_count": null,
      "metadata": {
        "id": "xGv8ntPo57-t",
        "outputId": "778c44d9-3745-49f4-9e16-a8afd45672ec"
      },
      "outputs": [
        {
          "data": {
            "text/html": [
              "<div>\n",
              "<style scoped>\n",
              "    .dataframe tbody tr th:only-of-type {\n",
              "        vertical-align: middle;\n",
              "    }\n",
              "\n",
              "    .dataframe tbody tr th {\n",
              "        vertical-align: top;\n",
              "    }\n",
              "\n",
              "    .dataframe thead th {\n",
              "        text-align: right;\n",
              "    }\n",
              "</style>\n",
              "<table border=\"1\" class=\"dataframe\">\n",
              "  <thead>\n",
              "    <tr style=\"text-align: right;\">\n",
              "      <th></th>\n",
              "      <th>user</th>\n",
              "      <th>movie</th>\n",
              "      <th>GAvg</th>\n",
              "      <th>sur1</th>\n",
              "      <th>sur2</th>\n",
              "      <th>sur3</th>\n",
              "      <th>sur4</th>\n",
              "      <th>sur5</th>\n",
              "      <th>smr1</th>\n",
              "      <th>smr2</th>\n",
              "      <th>smr3</th>\n",
              "      <th>smr4</th>\n",
              "      <th>smr5</th>\n",
              "      <th>UAvg</th>\n",
              "      <th>MAvg</th>\n",
              "      <th>rating</th>\n",
              "      <th>bslpr</th>\n",
              "      <th>knn_bsl_u</th>\n",
              "      <th>knn_bsl_m</th>\n",
              "    </tr>\n",
              "  </thead>\n",
              "  <tbody>\n",
              "    <tr>\n",
              "      <th>0</th>\n",
              "      <td>808635</td>\n",
              "      <td>71</td>\n",
              "      <td>3.553276</td>\n",
              "      <td>3.553276</td>\n",
              "      <td>3.553276</td>\n",
              "      <td>3.553276</td>\n",
              "      <td>3.553276</td>\n",
              "      <td>3.553276</td>\n",
              "      <td>3.553276</td>\n",
              "      <td>3.553276</td>\n",
              "      <td>3.553276</td>\n",
              "      <td>3.553276</td>\n",
              "      <td>3.553276</td>\n",
              "      <td>3.553276</td>\n",
              "      <td>3.553276</td>\n",
              "      <td>5</td>\n",
              "      <td>3.553276</td>\n",
              "      <td>3.553276</td>\n",
              "      <td>3.553276</td>\n",
              "    </tr>\n",
              "    <tr>\n",
              "      <th>1</th>\n",
              "      <td>941866</td>\n",
              "      <td>71</td>\n",
              "      <td>3.553276</td>\n",
              "      <td>3.553276</td>\n",
              "      <td>3.553276</td>\n",
              "      <td>3.553276</td>\n",
              "      <td>3.553276</td>\n",
              "      <td>3.553276</td>\n",
              "      <td>3.553276</td>\n",
              "      <td>3.553276</td>\n",
              "      <td>3.553276</td>\n",
              "      <td>3.553276</td>\n",
              "      <td>3.553276</td>\n",
              "      <td>3.553276</td>\n",
              "      <td>3.553276</td>\n",
              "      <td>4</td>\n",
              "      <td>3.553276</td>\n",
              "      <td>3.553276</td>\n",
              "      <td>3.553276</td>\n",
              "    </tr>\n",
              "  </tbody>\n",
              "</table>\n",
              "</div>"
            ],
            "text/plain": [
              "     user  movie      GAvg      sur1      sur2      sur3      sur4      sur5   \n",
              "0  808635     71  3.553276  3.553276  3.553276  3.553276  3.553276  3.553276  \\\n",
              "1  941866     71  3.553276  3.553276  3.553276  3.553276  3.553276  3.553276   \n",
              "\n",
              "       smr1      smr2      smr3      smr4      smr5      UAvg      MAvg   \n",
              "0  3.553276  3.553276  3.553276  3.553276  3.553276  3.553276  3.553276  \\\n",
              "1  3.553276  3.553276  3.553276  3.553276  3.553276  3.553276  3.553276   \n",
              "\n",
              "   rating     bslpr  knn_bsl_u  knn_bsl_m  \n",
              "0       5  3.553276   3.553276   3.553276  \n",
              "1       4  3.553276   3.553276   3.553276  "
            ]
          },
          "execution_count": 77,
          "metadata": {},
          "output_type": "execute_result"
        }
      ],
      "source": [
        "reg_test_df['knn_bsl_u'] = models_evaluation_test['knn_bsl_u']['predictions']\n",
        "reg_test_df['knn_bsl_m'] = models_evaluation_test['knn_bsl_m']['predictions']\n",
        "\n",
        "reg_test_df.head(2)"
      ]
    },
    {
      "cell_type": "markdown",
      "metadata": {
        "id": "6x4x1lPD57-t"
      },
      "source": [
        "### 13. XGboost-16 with 16 Features (13 handcrafted, output of baseline model and output of surprise KNN)"
      ]
    },
    {
      "cell_type": "code",
      "execution_count": null,
      "metadata": {
        "id": "UPYcrePx57-t",
        "outputId": "19caf35f-6cc9-4a22-9f5e-e209a3c19699"
      },
      "outputs": [
        {
          "name": "stdout",
          "output_type": "stream",
          "text": [
            "Training the model..\n"
          ]
        },
        {
          "name": "stderr",
          "output_type": "stream",
          "text": [
            "/home/shantanu/miniconda3/envs/sarvesh/lib/python3.11/site-packages/xgboost/sklearn.py:835: UserWarning: `eval_metric` in `fit` method is deprecated for better compatibility with scikit-learn, use `eval_metric` in constructor or`set_params` instead.\n",
            "  warnings.warn(\n"
          ]
        },
        {
          "name": "stdout",
          "output_type": "stream",
          "text": [
            "Done. Time taken : 0:00:03.308353\n",
            "\n",
            "Done \n",
            "\n",
            "Evaluating the model with TRAIN data...\n",
            "Evaluating Test data\n",
            "\n",
            "TEST DATA\n",
            "------------------------------\n",
            "RMSE :  1.132568352359465\n",
            "MAPE :  32.28808362649644\n"
          ]
        },
        {
          "data": {
            "image/png": "[encoded data removed]",
            "text/plain": [
              "<Figure size 640x480 with 1 Axes>"
            ]
          },
          "metadata": {},
          "output_type": "display_data"
        }
      ],
      "source": [
        "# prepare the train data....\n",
        "x_train = reg_train.drop(['user', 'movie', 'rating'], axis=1)\n",
        "y_train = reg_train['rating']\n",
        "\n",
        "# prepare the train data....\n",
        "x_test = reg_test_df.drop(['user','movie','rating'], axis=1)\n",
        "y_test = reg_test_df['rating']\n",
        "\n",
        "xgb_knn_bsl = xgb.XGBRegressor(n_jobs=10, random_state=15)\n",
        "train_results, test_results = run_xgboost(xgb_knn_bsl, x_train, y_train, x_test, y_test)\n",
        "\n",
        "models_evaluation_train['xgb_knn_bsl'] = train_results\n",
        "models_evaluation_test['xgb_knn_bsl'] = test_results\n",
        "\n",
        "xgb.plot_importance(xgb_knn_bsl)\n",
        "plt.show()"
      ]
    },
    {
      "cell_type": "markdown",
      "metadata": {
        "id": "bjjP0iy957-u"
      },
      "source": [
        "### 14. Surprise SVD"
      ]
    },
    {
      "cell_type": "markdown",
      "source": [
        "Matrix Factorization (SVD):\\\n",
        "The famous SVD algorithm, as popularized by Simon Fite during the Netflix Prize is,\n",
        "\\begin{align}\n",
        "\\large  r_{ui}^* = \\mu + b_u + b_i + q_i^Tp_u\n",
        "\\end{align}\n",
        "\n",
        "\n",
        "$\\pmb q_i$ - Representation of item(movie) in latent factor space\\\n",
        "$\\pmb p_u$ - Representation of user in new latent factor space\n",
        "\n",
        "\\\n",
        "Optimization problem with user item interactions and regularization (to avoid overfitting)\n",
        "\\begin{align}\n",
        "\\large \\sum_{r_{ui} \\in R_{train}} \\left(r_{ui} - r_{ui}^* \\right)^2 +\n",
        "\\lambda\\left(b_i^2 + b_u^2 + ||q_i||^2 + ||p_u||^2\\right)\n",
        "\\end{align}\n",
        "The minimization is performed by a very straightforward stochastic gradient descent, The predicted result $r_{ui}^*$ will be again used later to train  XgBoost Regression Using 18 features"
      ],
      "metadata": {
        "id": "osIV8HPXrXaJ"
      }
    },
    {
      "cell_type": "code",
      "execution_count": null,
      "metadata": {
        "id": "THIBBcCw57-u"
      },
      "outputs": [],
      "source": [
        "from surprise import SVD"
      ]
    },
    {
      "cell_type": "code",
      "execution_count": null,
      "metadata": {
        "id": "PzWCyFFe57-u",
        "outputId": "e9d2a369-a03d-4599-c53a-5f4267f5f986"
      },
      "outputs": [
        {
          "name": "stdout",
          "output_type": "stream",
          "text": [
            "Training the model...\n",
            "Processing epoch 0\n",
            "Processing epoch 1\n",
            "Processing epoch 2\n",
            "Processing epoch 3\n",
            "Processing epoch 4\n",
            "Processing epoch 5\n",
            "Processing epoch 6\n",
            "Processing epoch 7\n",
            "Processing epoch 8\n",
            "Processing epoch 9\n",
            "Processing epoch 10\n",
            "Processing epoch 11\n",
            "Processing epoch 12\n",
            "Processing epoch 13\n",
            "Processing epoch 14\n",
            "Processing epoch 15\n",
            "Processing epoch 16\n",
            "Processing epoch 17\n",
            "Processing epoch 18\n",
            "Processing epoch 19\n",
            "Done. time taken : 0:00:01.173310 \n",
            "\n",
            "Evaluating the model with train data..\n",
            "time taken : 0:00:00.777814\n",
            "---------------\n",
            "Train Data\n",
            "---------------\n",
            "RMSE : 0.6558331059734974\n",
            "\n",
            "MAPE : 19.808208315214067\n",
            "\n",
            "adding train results in the dictionary..\n",
            "\n",
            "Evaluating for test data...\n",
            "time taken : 0:00:00.062544\n",
            "---------------\n",
            "Test Data\n",
            "---------------\n",
            "RMSE : 1.0698761361242832\n",
            "\n",
            "MAPE : 34.71054045263497\n",
            "\n",
            "storing the test results in test dictionary...\n",
            "\n",
            "---------------------------------------------\n",
            "Total time taken to run this algorithm : 0:00:02.013855\n"
          ]
        }
      ],
      "source": [
        "svd = SVD(n_factors=100, biased=True, random_state=15, verbose=True)\n",
        "svd_train_results, svd_test_results = run_surprise(svd, trainset, testset, verbose=True)\n",
        "models_evaluation_train['svd'] = svd_train_results \n",
        "models_evaluation_test['svd'] = svd_test_results"
      ]
    },
    {
      "cell_type": "markdown",
      "metadata": {
        "id": "2wrLyGHf57-u"
      },
      "source": [
        "### 15. SVD++"
      ]
    },
    {
      "cell_type": "markdown",
      "source": [
        "The SVD++ algorithm, an extension of SVD taking into account implicit ratings.\n",
        "\\begin{align}\n",
        " \\large r_{ui}^{'} = \\mu + b_u + b_i + q_i^T\\left(p_u +\n",
        "    |I_u|^{-\\frac{1}{2}} \\sum_{j \\in I_u}y_j\\right) \n",
        "\\end{align}\n",
        "\n",
        "$ \\pmb{I_u}$ - the set of all items rated by user u\\\n",
        "$\\pmb{y_j}$ - Our new set of item factors that capture implicit ratings. \n",
        "\n"
      ],
      "metadata": {
        "id": "iKMbgBRcxhtk"
      }
    },
    {
      "cell_type": "code",
      "execution_count": null,
      "metadata": {
        "id": "4nVj0lnR57-u"
      },
      "outputs": [],
      "source": [
        "from surprise import SVDpp"
      ]
    },
    {
      "cell_type": "code",
      "execution_count": null,
      "metadata": {
        "id": "jj-hQC7g57-v",
        "outputId": "a3a93763-265e-473c-a66b-9c5d2a529366"
      },
      "outputs": [
        {
          "name": "stdout",
          "output_type": "stream",
          "text": [
            "Training the model...\n",
            " processing epoch 0\n",
            " processing epoch 1\n",
            " processing epoch 2\n",
            " processing epoch 3\n",
            " processing epoch 4\n",
            " processing epoch 5\n",
            " processing epoch 6\n",
            " processing epoch 7\n",
            " processing epoch 8\n",
            " processing epoch 9\n",
            " processing epoch 10\n",
            " processing epoch 11\n",
            " processing epoch 12\n",
            " processing epoch 13\n",
            " processing epoch 14\n",
            " processing epoch 15\n",
            " processing epoch 16\n",
            " processing epoch 17\n",
            " processing epoch 18\n",
            " processing epoch 19\n",
            "Done. time taken : 0:00:22.267322 \n",
            "\n",
            "Evaluating the model with train data..\n",
            "time taken : 0:00:06.913382\n",
            "---------------\n",
            "Train Data\n",
            "---------------\n",
            "RMSE : 0.6105748361174208\n",
            "\n",
            "MAPE : 17.91759239672013\n",
            "\n",
            "adding train results in the dictionary..\n",
            "\n",
            "Evaluating for test data...\n",
            "time taken : 0:00:00.184575\n",
            "---------------\n",
            "Test Data\n",
            "---------------\n",
            "RMSE : 1.070294929392826\n",
            "\n",
            "MAPE : 34.628511898222534\n",
            "\n",
            "storing the test results in test dictionary...\n",
            "\n",
            "---------------------------------------------\n",
            "Total time taken to run this algorithm : 0:00:29.365504\n"
          ]
        }
      ],
      "source": [
        "svdpp = SVDpp(n_factors=50, random_state=15, verbose=True)\n",
        "svdpp_train_results, svdpp_test_results = run_surprise(svdpp, trainset, testset, verbose=True)\n",
        "\n",
        "models_evaluation_train['svdpp'] = svdpp_train_results \n",
        "models_evaluation_test['svdpp'] = svdpp_test_results\n"
      ]
    },
    {
      "cell_type": "code",
      "execution_count": null,
      "metadata": {
        "id": "6OMCFxsK57-w",
        "outputId": "77eef47b-f5e5-4ae5-f524-99d40b7cb52b"
      },
      "outputs": [
        {
          "data": {
            "text/html": [
              "<div>\n",
              "<style scoped>\n",
              "    .dataframe tbody tr th:only-of-type {\n",
              "        vertical-align: middle;\n",
              "    }\n",
              "\n",
              "    .dataframe tbody tr th {\n",
              "        vertical-align: top;\n",
              "    }\n",
              "\n",
              "    .dataframe thead th {\n",
              "        text-align: right;\n",
              "    }\n",
              "</style>\n",
              "<table border=\"1\" class=\"dataframe\">\n",
              "  <thead>\n",
              "    <tr style=\"text-align: right;\">\n",
              "      <th></th>\n",
              "      <th>user</th>\n",
              "      <th>movie</th>\n",
              "      <th>GAvg</th>\n",
              "      <th>sur1</th>\n",
              "      <th>sur2</th>\n",
              "      <th>sur3</th>\n",
              "      <th>sur4</th>\n",
              "      <th>sur5</th>\n",
              "      <th>smr1</th>\n",
              "      <th>smr2</th>\n",
              "      <th>...</th>\n",
              "      <th>smr4</th>\n",
              "      <th>smr5</th>\n",
              "      <th>UAvg</th>\n",
              "      <th>MAvg</th>\n",
              "      <th>rating</th>\n",
              "      <th>bslpr</th>\n",
              "      <th>knn_bsl_u</th>\n",
              "      <th>knn_bsl_m</th>\n",
              "      <th>svd</th>\n",
              "      <th>svdpp</th>\n",
              "    </tr>\n",
              "  </thead>\n",
              "  <tbody>\n",
              "    <tr>\n",
              "      <th>0</th>\n",
              "      <td>53406</td>\n",
              "      <td>33</td>\n",
              "      <td>3.553276</td>\n",
              "      <td>4.0</td>\n",
              "      <td>5.0</td>\n",
              "      <td>1.0</td>\n",
              "      <td>5.0</td>\n",
              "      <td>3.0</td>\n",
              "      <td>5.0</td>\n",
              "      <td>2.0</td>\n",
              "      <td>...</td>\n",
              "      <td>3.0</td>\n",
              "      <td>3.0</td>\n",
              "      <td>3.366667</td>\n",
              "      <td>4.066667</td>\n",
              "      <td>4</td>\n",
              "      <td>3.850205</td>\n",
              "      <td>3.905401</td>\n",
              "      <td>3.840851</td>\n",
              "      <td>3.829412</td>\n",
              "      <td>4.207834</td>\n",
              "    </tr>\n",
              "    <tr>\n",
              "      <th>1</th>\n",
              "      <td>99865</td>\n",
              "      <td>33</td>\n",
              "      <td>3.553276</td>\n",
              "      <td>5.0</td>\n",
              "      <td>5.0</td>\n",
              "      <td>4.0</td>\n",
              "      <td>4.0</td>\n",
              "      <td>5.0</td>\n",
              "      <td>5.0</td>\n",
              "      <td>4.0</td>\n",
              "      <td>...</td>\n",
              "      <td>4.0</td>\n",
              "      <td>5.0</td>\n",
              "      <td>3.639344</td>\n",
              "      <td>4.066667</td>\n",
              "      <td>5</td>\n",
              "      <td>3.329564</td>\n",
              "      <td>3.139832</td>\n",
              "      <td>3.101314</td>\n",
              "      <td>3.400645</td>\n",
              "      <td>3.464591</td>\n",
              "    </tr>\n",
              "  </tbody>\n",
              "</table>\n",
              "<p>2 rows × 21 columns</p>\n",
              "</div>"
            ],
            "text/plain": [
              "    user  movie      GAvg  sur1  sur2  sur3  sur4  sur5  smr1  smr2  ...   \n",
              "0  53406     33  3.553276   4.0   5.0   1.0   5.0   3.0   5.0   2.0  ...  \\\n",
              "1  99865     33  3.553276   5.0   5.0   4.0   4.0   5.0   5.0   4.0  ...   \n",
              "\n",
              "   smr4  smr5      UAvg      MAvg  rating     bslpr  knn_bsl_u  knn_bsl_m   \n",
              "0   3.0   3.0  3.366667  4.066667       4  3.850205   3.905401   3.840851  \\\n",
              "1   4.0   5.0  3.639344  4.066667       5  3.329564   3.139832   3.101314   \n",
              "\n",
              "        svd     svdpp  \n",
              "0  3.829412  4.207834  \n",
              "1  3.400645  3.464591  \n",
              "\n",
              "[2 rows x 21 columns]"
            ]
          },
          "execution_count": 83,
          "metadata": {},
          "output_type": "execute_result"
        }
      ],
      "source": [
        "reg_train['svd'] = models_evaluation_train['svd']['predictions']\n",
        "reg_train['svdpp'] = models_evaluation_train['svdpp']['predictions']\n",
        "\n",
        "reg_train.head(2) "
      ]
    },
    {
      "cell_type": "code",
      "execution_count": null,
      "metadata": {
        "id": "OSqW1lfY57-x",
        "outputId": "4ff3b9c1-02f9-4417-b98a-be1720ab78c3"
      },
      "outputs": [
        {
          "data": {
            "text/html": [
              "<div>\n",
              "<style scoped>\n",
              "    .dataframe tbody tr th:only-of-type {\n",
              "        vertical-align: middle;\n",
              "    }\n",
              "\n",
              "    .dataframe tbody tr th {\n",
              "        vertical-align: top;\n",
              "    }\n",
              "\n",
              "    .dataframe thead th {\n",
              "        text-align: right;\n",
              "    }\n",
              "</style>\n",
              "<table border=\"1\" class=\"dataframe\">\n",
              "  <thead>\n",
              "    <tr style=\"text-align: right;\">\n",
              "      <th></th>\n",
              "      <th>user</th>\n",
              "      <th>movie</th>\n",
              "      <th>GAvg</th>\n",
              "      <th>sur1</th>\n",
              "      <th>sur2</th>\n",
              "      <th>sur3</th>\n",
              "      <th>sur4</th>\n",
              "      <th>sur5</th>\n",
              "      <th>smr1</th>\n",
              "      <th>smr2</th>\n",
              "      <th>...</th>\n",
              "      <th>smr4</th>\n",
              "      <th>smr5</th>\n",
              "      <th>UAvg</th>\n",
              "      <th>MAvg</th>\n",
              "      <th>rating</th>\n",
              "      <th>bslpr</th>\n",
              "      <th>knn_bsl_u</th>\n",
              "      <th>knn_bsl_m</th>\n",
              "      <th>svd</th>\n",
              "      <th>svdpp</th>\n",
              "    </tr>\n",
              "  </thead>\n",
              "  <tbody>\n",
              "    <tr>\n",
              "      <th>0</th>\n",
              "      <td>808635</td>\n",
              "      <td>71</td>\n",
              "      <td>3.553276</td>\n",
              "      <td>3.553276</td>\n",
              "      <td>3.553276</td>\n",
              "      <td>3.553276</td>\n",
              "      <td>3.553276</td>\n",
              "      <td>3.553276</td>\n",
              "      <td>3.553276</td>\n",
              "      <td>3.553276</td>\n",
              "      <td>...</td>\n",
              "      <td>3.553276</td>\n",
              "      <td>3.553276</td>\n",
              "      <td>3.553276</td>\n",
              "      <td>3.553276</td>\n",
              "      <td>5</td>\n",
              "      <td>3.553276</td>\n",
              "      <td>3.553276</td>\n",
              "      <td>3.553276</td>\n",
              "      <td>3.553276</td>\n",
              "      <td>3.553276</td>\n",
              "    </tr>\n",
              "    <tr>\n",
              "      <th>1</th>\n",
              "      <td>941866</td>\n",
              "      <td>71</td>\n",
              "      <td>3.553276</td>\n",
              "      <td>3.553276</td>\n",
              "      <td>3.553276</td>\n",
              "      <td>3.553276</td>\n",
              "      <td>3.553276</td>\n",
              "      <td>3.553276</td>\n",
              "      <td>3.553276</td>\n",
              "      <td>3.553276</td>\n",
              "      <td>...</td>\n",
              "      <td>3.553276</td>\n",
              "      <td>3.553276</td>\n",
              "      <td>3.553276</td>\n",
              "      <td>3.553276</td>\n",
              "      <td>4</td>\n",
              "      <td>3.553276</td>\n",
              "      <td>3.553276</td>\n",
              "      <td>3.553276</td>\n",
              "      <td>3.553276</td>\n",
              "      <td>3.553276</td>\n",
              "    </tr>\n",
              "  </tbody>\n",
              "</table>\n",
              "<p>2 rows × 21 columns</p>\n",
              "</div>"
            ],
            "text/plain": [
              "     user  movie      GAvg      sur1      sur2      sur3      sur4      sur5   \n",
              "0  808635     71  3.553276  3.553276  3.553276  3.553276  3.553276  3.553276  \\\n",
              "1  941866     71  3.553276  3.553276  3.553276  3.553276  3.553276  3.553276   \n",
              "\n",
              "       smr1      smr2  ...      smr4      smr5      UAvg      MAvg  rating   \n",
              "0  3.553276  3.553276  ...  3.553276  3.553276  3.553276  3.553276       5  \\\n",
              "1  3.553276  3.553276  ...  3.553276  3.553276  3.553276  3.553276       4   \n",
              "\n",
              "      bslpr  knn_bsl_u  knn_bsl_m       svd     svdpp  \n",
              "0  3.553276   3.553276   3.553276  3.553276  3.553276  \n",
              "1  3.553276   3.553276   3.553276  3.553276  3.553276  \n",
              "\n",
              "[2 rows x 21 columns]"
            ]
          },
          "execution_count": 84,
          "metadata": {},
          "output_type": "execute_result"
        }
      ],
      "source": [
        "reg_test_df['svd'] = models_evaluation_test['svd']['predictions']\n",
        "reg_test_df['svdpp'] = models_evaluation_test['svdpp']['predictions']\n",
        "\n",
        "reg_test_df.head(2) "
      ]
    },
    {
      "cell_type": "markdown",
      "source": [
        "### 16. XGboost-18 with 18 Features (13 handcrafted, output of baseline model ,output of surprise KNN,Output of SVD and output of SVD++)"
      ],
      "metadata": {
        "id": "BGiqt5RrzDbQ"
      }
    },
    {
      "cell_type": "code",
      "execution_count": null,
      "metadata": {
        "id": "RPSmjIIF57-x",
        "outputId": "7df8a1fa-e793-4a60-b50d-088284bb0a44"
      },
      "outputs": [
        {
          "name": "stdout",
          "output_type": "stream",
          "text": [
            "Training the model..\n"
          ]
        },
        {
          "name": "stderr",
          "output_type": "stream",
          "text": [
            "/home/shantanu/miniconda3/envs/sarvesh/lib/python3.11/site-packages/xgboost/sklearn.py:835: UserWarning: `eval_metric` in `fit` method is deprecated for better compatibility with scikit-learn, use `eval_metric` in constructor or`set_params` instead.\n",
            "  warnings.warn(\n"
          ]
        },
        {
          "name": "stdout",
          "output_type": "stream",
          "text": [
            "Done. Time taken : 0:00:03.464448\n",
            "\n",
            "Done \n",
            "\n",
            "Evaluating the model with TRAIN data...\n",
            "Evaluating Test data\n",
            "\n",
            "TEST DATA\n",
            "------------------------------\n",
            "RMSE :  1.1814834683612185\n",
            "MAPE :  31.41329740409689\n"
          ]
        },
        {
          "data": {
            "image/png": "[encoded data removed]",
            "text/plain": [
              "<Figure size 640x480 with 1 Axes>"
            ]
          },
          "metadata": {},
          "output_type": "display_data"
        }
      ],
      "source": [
        "x_train = reg_train.drop(['user', 'movie', 'rating',], axis=1)\n",
        "y_train = reg_train['rating']\n",
        "\n",
        "x_test = reg_test_df.drop(['user', 'movie', 'rating'], axis=1)\n",
        "y_test = reg_test_df['rating']\n",
        "\n",
        "xgb_final = xgb.XGBRegressor(n_jobs=10, random_state=15)\n",
        "train_results, test_results = run_xgboost(xgb_final, x_train, y_train, x_test, y_test)\n",
        "\n",
        "models_evaluation_train['xgb_final'] = train_results\n",
        "models_evaluation_test['xgb_final'] = test_results\n",
        "\n",
        "xgb.plot_importance(xgb_final)\n",
        "plt.show()"
      ]
    },
    {
      "cell_type": "markdown",
      "source": [
        "### 17. Final RMSE Loss calculation on Test data"
      ],
      "metadata": {
        "id": "pcql67pf0WEU"
      }
    },
    {
      "cell_type": "code",
      "execution_count": null,
      "metadata": {
        "id": "PpF3HhQ257-y",
        "outputId": "f7e8beb6-51f7-445d-b80a-c08d3c249c73"
      },
      "outputs": [
        {
          "data": {
            "text/plain": [
              "bsl_algo          1.0697024551739118\n",
              "knn_bsl_u         1.0697479937154935\n",
              "knn_bsl_m         1.0698742035453888\n",
              "svd               1.0698761361242832\n",
              "svdpp              1.070294929392826\n",
              "xgb_all_models    1.0777246644455034\n",
              "xgb_bsl            1.122584002182969\n",
              "xgb_knn_bsl        1.132568352359465\n",
              "first_algo        1.1469005696747614\n",
              "xgb_final         1.1814834683612185\n",
              "Name: rmse, dtype: object"
            ]
          },
          "execution_count": 87,
          "metadata": {},
          "output_type": "execute_result"
        }
      ],
      "source": [
        "pd.DataFrame(models_evaluation_test).to_csv('small_sample_results.csv')\n",
        "models = pd.read_csv('small_sample_results.csv', index_col=0)\n",
        "models.loc['rmse'].sort_values()"
      ]
    }
  ],
  "metadata": {
    "kernelspec": {
      "display_name": "sarvesh",
      "language": "python",
      "name": "python3"
    },
    "language_info": {
      "codemirror_mode": {
        "name": "ipython",
        "version": 3
      },
      "file_extension": ".py",
      "mimetype": "text/x-python",
      "name": "python",
      "nbconvert_exporter": "python",
      "pygments_lexer": "ipython3",
      "version": "3.11.2"
    },
    "orig_nbformat": 4,
    "colab": {
      "provenance": [],
      "collapsed_sections": [
        "ToJ5XkgM57-r",
        "K8OeuStLm9TO",
        "AKiuTg7S57-s",
        "6x4x1lPD57-t",
        "bjjP0iy957-u",
        "2wrLyGHf57-u",
        "BGiqt5RrzDbQ"
      ]
    }
  },
  "nbformat": 4,
  "nbformat_minor": 0
}